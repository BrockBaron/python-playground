{
 "cells": [
  {
   "cell_type": "markdown",
   "metadata": {},
   "source": [
    "# Python for loop\n",
    "\n",
    "Reference:\n",
    "- For loops:\n",
    "    <https://wiki.python.org/moin/ForLoop>"
   ]
  },
  {
   "cell_type": "code",
   "execution_count": 1,
   "metadata": {},
   "outputs": [],
   "source": [
    "import numpy as np\n",
    "import pandas as pd"
   ]
  },
  {
   "cell_type": "markdown",
   "metadata": {},
   "source": [
    "## Loop over a range"
   ]
  },
  {
   "cell_type": "code",
   "execution_count": 2,
   "metadata": {
    "scrolled": true
   },
   "outputs": [
    {
     "name": "stdout",
     "output_type": "stream",
     "text": [
      "0\n",
      "1\n",
      "2\n",
      "3\n",
      "4\n",
      "5\n",
      "6\n"
     ]
    }
   ],
   "source": [
    "for x in range(0, 7):\n",
    "    print(x)"
   ]
  },
  {
   "cell_type": "markdown",
   "metadata": {},
   "source": [
    "## Loop over a string"
   ]
  },
  {
   "cell_type": "code",
   "execution_count": 3,
   "metadata": {},
   "outputs": [
    {
     "name": "stdout",
     "output_type": "stream",
     "text": [
      "H\n",
      "i\n",
      ",\n",
      " \n",
      "P\n",
      "y\n",
      "t\n",
      "h\n",
      "o\n",
      "n\n"
     ]
    }
   ],
   "source": [
    "for x in 'Hi, Python':\n",
    "    print(x)"
   ]
  },
  {
   "cell_type": "markdown",
   "metadata": {},
   "source": [
    "## Loop over a numpy array"
   ]
  },
  {
   "cell_type": "code",
   "execution_count": 4,
   "metadata": {},
   "outputs": [],
   "source": [
    "np_height = np.array([3, 21, 4, 54, 23])"
   ]
  },
  {
   "cell_type": "code",
   "execution_count": 5,
   "metadata": {},
   "outputs": [
    {
     "name": "stdout",
     "output_type": "stream",
     "text": [
      "3\n",
      "21\n",
      "4\n",
      "54\n",
      "23\n"
     ]
    }
   ],
   "source": [
    "for height in np_height:\n",
    "    print(height)"
   ]
  },
  {
   "cell_type": "markdown",
   "metadata": {},
   "source": [
    "The iterator object `nditer` provides many flexible ways to visit all the elements of one or more arrays in a systematic fashion.\n",
    "https://docs.scipy.org/doc/numpy/reference/arrays.nditer.html#arrays-nditer"
   ]
  },
  {
   "cell_type": "code",
   "execution_count": 6,
   "metadata": {
    "scrolled": true
   },
   "outputs": [
    {
     "name": "stdout",
     "output_type": "stream",
     "text": [
      "3\n",
      "21\n",
      "4\n",
      "54\n",
      "23\n"
     ]
    }
   ],
   "source": [
    "for height in np.nditer(np_height):\n",
    "    print(height)"
   ]
  },
  {
   "cell_type": "markdown",
   "metadata": {},
   "source": [
    "## Loop over a list"
   ]
  },
  {
   "cell_type": "code",
   "execution_count": 7,
   "metadata": {},
   "outputs": [],
   "source": [
    "areas = [11.25, 18.0, 20.0, 10.75, 9.50]"
   ]
  },
  {
   "cell_type": "code",
   "execution_count": 8,
   "metadata": {},
   "outputs": [
    {
     "name": "stdout",
     "output_type": "stream",
     "text": [
      "11.25\n",
      "18.0\n",
      "20.0\n",
      "10.75\n",
      "9.5\n"
     ]
    }
   ],
   "source": [
    "for area in areas:\n",
    "    print(area)"
   ]
  },
  {
   "cell_type": "markdown",
   "metadata": {},
   "source": [
    "`enumerate` is a built-in function of Python. It allows us to loop over something and have an automatic counter.\n",
    "http://book.pythontips.com/en/latest/enumerate.html"
   ]
  },
  {
   "cell_type": "code",
   "execution_count": 9,
   "metadata": {},
   "outputs": [
    {
     "name": "stdout",
     "output_type": "stream",
     "text": [
      "0 11.25\n",
      "1 18.0\n",
      "2 20.0\n",
      "3 10.75\n",
      "4 9.5\n"
     ]
    }
   ],
   "source": [
    "for counter, value in enumerate(areas):\n",
    "    print(counter, value)"
   ]
  },
  {
   "cell_type": "markdown",
   "metadata": {},
   "source": [
    "## Loop over a list of lists"
   ]
  },
  {
   "cell_type": "code",
   "execution_count": 10,
   "metadata": {},
   "outputs": [],
   "source": [
    "house = [[\"hallway\", 11.25],\n",
    "         [\"kitchen\", 18.0],\n",
    "         [\"living room\", 20.0],\n",
    "         [\"bedroom\", 10.75],\n",
    "         [\"bathroom\", 9.50]]"
   ]
  },
  {
   "cell_type": "code",
   "execution_count": 11,
   "metadata": {},
   "outputs": [
    {
     "name": "stdout",
     "output_type": "stream",
     "text": [
      "The hallway is 11.25 sqm.\n",
      "The kitchen is 18.0 sqm.\n",
      "The living room is 20.0 sqm.\n",
      "The bedroom is 10.75 sqm.\n",
      "The bathroom is 9.5 sqm.\n"
     ]
    }
   ],
   "source": [
    "for room, area in house:\n",
    "    print('The ' + str(room) + ' is ' + str(area) + ' sqm.')"
   ]
  },
  {
   "cell_type": "markdown",
   "metadata": {},
   "source": [
    "## Loop over a dictionary"
   ]
  },
  {
   "cell_type": "code",
   "execution_count": 12,
   "metadata": {},
   "outputs": [],
   "source": [
    "europe = {'Spain': 'Madrid',\n",
    "          'France': 'Paris',\n",
    "          'Germany': 'Berlin',\n",
    "          'Norway': 'Oslo',\n",
    "          'Italy': 'Rome',\n",
    "          'Poland': 'Warsaw',\n",
    "          'Australia': 'Canberra'}"
   ]
  },
  {
   "cell_type": "code",
   "execution_count": 13,
   "metadata": {},
   "outputs": [
    {
     "name": "stdout",
     "output_type": "stream",
     "text": [
      "The capital of Spain is Madrid.\n",
      "The capital of France is Paris.\n",
      "The capital of Germany is Berlin.\n",
      "The capital of Norway is Oslo.\n",
      "The capital of Italy is Rome.\n",
      "The capital of Poland is Warsaw.\n",
      "The capital of Australia is Canberra.\n"
     ]
    }
   ],
   "source": [
    "for key, value in europe.items():\n",
    "    print('The capital of ' + str(key) + ' is ' + str(value) + '.')"
   ]
  },
  {
   "cell_type": "markdown",
   "metadata": {},
   "source": [
    "**Remark:** In Python 3, `dict.items()` returns iterator object. `dict.iteritems()` is removed."
   ]
  },
  {
   "cell_type": "markdown",
   "metadata": {},
   "source": [
    "## Loop over a series"
   ]
  },
  {
   "cell_type": "code",
   "execution_count": 14,
   "metadata": {},
   "outputs": [],
   "source": [
    "ser = pd.Series([4, -7, 2, 1])"
   ]
  },
  {
   "cell_type": "code",
   "execution_count": 15,
   "metadata": {},
   "outputs": [
    {
     "name": "stdout",
     "output_type": "stream",
     "text": [
      "4\n",
      "-7\n",
      "2\n",
      "1\n"
     ]
    }
   ],
   "source": [
    "for v in ser:\n",
    "    print(v)"
   ]
  },
  {
   "cell_type": "markdown",
   "metadata": {},
   "source": [
    "Both `pandas.Series.items` and `pandas.Series.iteritems` lazily iterate over (index, value) tuples.\n",
    "https://pandas.pydata.org/pandas-docs/stable/reference/api/pandas.Series.html"
   ]
  },
  {
   "cell_type": "code",
   "execution_count": 16,
   "metadata": {},
   "outputs": [
    {
     "name": "stdout",
     "output_type": "stream",
     "text": [
      "0 4\n",
      "1 -7\n",
      "2 2\n",
      "3 1\n"
     ]
    }
   ],
   "source": [
    "for i, v in ser.items():\n",
    "    print(i, v)"
   ]
  },
  {
   "cell_type": "code",
   "execution_count": 17,
   "metadata": {
    "scrolled": false
   },
   "outputs": [
    {
     "name": "stdout",
     "output_type": "stream",
     "text": [
      "0 4\n",
      "1 -7\n",
      "2 2\n",
      "3 1\n"
     ]
    }
   ],
   "source": [
    "for i, v in ser.iteritems():\n",
    "    print(i, v)"
   ]
  },
  {
   "cell_type": "markdown",
   "metadata": {},
   "source": [
    "## Loop over a dataframe"
   ]
  },
  {
   "cell_type": "code",
   "execution_count": 18,
   "metadata": {},
   "outputs": [],
   "source": [
    "df = pd.DataFrame({'state': ['Ohio', 'Ohio', 'Nevada'],\n",
    "                   'year': [2000, 2001, 2001],\n",
    "                   'pop': [1.5, 1.7, 3.6]})"
   ]
  },
  {
   "cell_type": "markdown",
   "metadata": {},
   "source": [
    "`pandas.DataFrame.iterrows` iterates over dataFrame rows as (index, Series) pairs.\n",
    "https://pandas.pydata.org/pandas-docs/stable/reference/api/pandas.DataFrame.iterrows.html"
   ]
  },
  {
   "cell_type": "code",
   "execution_count": 19,
   "metadata": {},
   "outputs": [
    {
     "name": "stdout",
     "output_type": "stream",
     "text": [
      "0 state    Ohio\n",
      "year     2000\n",
      "pop       1.5\n",
      "Name: 0, dtype: object\n",
      "1 state    Ohio\n",
      "year     2001\n",
      "pop       1.7\n",
      "Name: 1, dtype: object\n",
      "2 state    Nevada\n",
      "year       2001\n",
      "pop         3.6\n",
      "Name: 2, dtype: object\n"
     ]
    }
   ],
   "source": [
    "for i, v in df.iterrows():\n",
    "    print(i, v)"
   ]
  }
 ],
 "metadata": {
  "kernelspec": {
   "display_name": "Python 3",
   "language": "python",
   "name": "python3"
  },
  "language_info": {
   "codemirror_mode": {
    "name": "ipython",
    "version": 3
   },
   "file_extension": ".py",
   "mimetype": "text/x-python",
   "name": "python",
   "nbconvert_exporter": "python",
   "pygments_lexer": "ipython3",
   "version": "3.7.2"
  }
 },
 "nbformat": 4,
 "nbformat_minor": 2
}
