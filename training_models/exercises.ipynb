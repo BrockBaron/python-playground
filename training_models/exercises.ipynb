{
 "cells": [
  {
   "cell_type": "markdown",
   "metadata": {},
   "source": [
    "**1. What Linear Regression training algorithm can you use if you have a training set with millions of features?**"
   ]
  },
  {
   "cell_type": "markdown",
   "metadata": {},
   "source": [
    "We can use Stochastic Gradient Descent or Mini-batch Gradient Descent, and Batch GD if the training set fits in memory. We should not use Normal Equation because the computational complexity grows quickly."
   ]
  },
  {
   "cell_type": "markdown",
   "metadata": {},
   "source": [
    "**2. Suppose the features in your training set have very different scales. What algorithms might suffer from this, and how? What can you do about it?**"
   ]
  },
  {
   "cell_type": "markdown",
   "metadata": {},
   "source": [
    "~~Use Stochastic Gradient Descent, Mini-batch Gradient Descent or Batch Gradient Descent.~~\n",
    "\n",
    "If the features in your training set have very different scales, the cost function will have the shape of an elongated bowl, so the Gradient Descent algorithms will take a long time to converge. To solve this, you should scale the data **before training the model**.\n",
    "\n",
    "Note that the Normal Equatoin will work just fine without scaling. Moreover, regularized models may converge to a suboptimal solution if the features are not scaled: indeed, since regularization penalizes large weights, features with smaller values will tend to be ignored compared to features with larger values."
   ]
  },
  {
   "cell_type": "markdown",
   "metadata": {},
   "source": [
    "**3. Can Gradient Descent get stuck in a local minimum when training a Logistic Regression model?**"
   ]
  },
  {
   "cell_type": "markdown",
   "metadata": {},
   "source": [
    "No. Because logistic regression cost function is convex~~, GD can find the global minimum~~.\n",
    "(If you draw a straight line between any 2 points on the cureve, the line never crosses the curve.)"
   ]
  },
  {
   "cell_type": "markdown",
   "metadata": {},
   "source": [
    "**4. Do all Gradient Descent algorithms lead to the same model provided you let them run long enough?**"
   ]
  },
  {
   "cell_type": "markdown",
   "metadata": {},
   "source": [
    "If the optimization problem is convex (such as Linear Regression or Logistic Regression), and assuming the learning reate is not too high, then all Gradient Descent algorithms will approach the gloal minimum, and end up producing fairly similar models. However, unless you gradually reduce the learning rate, Stochastic GD and Mini-batch GD will **never truly converge**; instead, they will **keep jump back and forth around the global optimum**. This means that even if you let them run for a very long time, these GD algorithms will _produce slightly different models_."
   ]
  },
  {
   "cell_type": "markdown",
   "metadata": {},
   "source": [
    "**5. Suppose you use Batch Gradent Descent and you plot the validation error at every epoch. If you notice that the validation error consistently goes up, what is likely going on? How can you fix this?**"
   ]
  },
  {
   "cell_type": "markdown",
   "metadata": {},
   "source": [
    "If the **validation error consistently goes up after every epoch**, then one poooibility is that the learning rate is too high and the algorithm is diverging. If the **training error also goes up**, then this is clearly the problem and you should reduce the learning rate. However, if the training error is not going up, then your model is overfitting the training set and you should stop training."
   ]
  },
  {
   "cell_type": "markdown",
   "metadata": {},
   "source": [
    "**6. Is it a good idea to stop Mini-batch Gradient Descent immediately when the validation error goes up?**"
   ]
  },
  {
   "cell_type": "markdown",
   "metadata": {},
   "source": [
    "No.\n",
    "\n",
    "Due to their random nature, neither SGD nor Mini-batch GD is guaranteed to make progress at every single training iteration. So if you immediately stop training when the validtion error goes up, you might stop too early before the optimum is reached.\n",
    "\n",
    "A better option is to save the model at regular intervals, when it has not improved for a long time (it will probably never beat the record), you can revert to the best saved model."
   ]
  },
  {
   "cell_type": "markdown",
   "metadata": {},
   "source": [
    "**7. Which Gradient Descent algorithm (among those we discusses) will reach the vicinity of the optimal solution the fastest? Which will actually converge? How can you make the others converge as well?**"
   ]
  },
  {
   "cell_type": "markdown",
   "metadata": {},
   "source": [
    "~~Batch GD will reach the vicinity of the optimal solution the fastest.~~ Batch GD is actually converge.\n",
    "\n",
    "Stochastic GD has the fastest training iteration since it considers only one training instance at a time, so it is generally the first to reach the vicinity of the glabal optimum (or Mini-batch GD with a very small mini-batch size).\n",
    "\n",
    "However, only Batch GD is actually converge, given enough training time.\n",
    "\n",
    "Stochastic GD and Mini-batch GD will bounce around the optimum, unless you gradually reduce the learning rate."
   ]
  },
  {
   "cell_type": "markdown",
   "metadata": {},
   "source": [
    "**8. Suppose you are using Polynomial Regression. You plot the learning curves and you notice that there is a large gap between the training error and the validation error. What is happening? What are three ways to solve this?**"
   ]
  },
  {
   "cell_type": "markdown",
   "metadata": {},
   "source": []
  },
  {
   "cell_type": "markdown",
   "metadata": {},
   "source": [
    "**9. Suppose you are using Ridge Regression and you notice that hte training error and the validation error are almost equal and fairly high. Would you say that the model suffers from high bias or high variance? Should you increase the regularizaiton hyperparameter alpha or reduce it?**"
   ]
  },
  {
   "cell_type": "markdown",
   "metadata": {},
   "source": []
  }
 ],
 "metadata": {
  "kernelspec": {
   "display_name": "Python 3",
   "language": "python",
   "name": "python3"
  },
  "language_info": {
   "codemirror_mode": {
    "name": "ipython",
    "version": 3
   },
   "file_extension": ".py",
   "mimetype": "text/x-python",
   "name": "python",
   "nbconvert_exporter": "python",
   "pygments_lexer": "ipython3",
   "version": "3.7.2"
  }
 },
 "nbformat": 4,
 "nbformat_minor": 2
}
