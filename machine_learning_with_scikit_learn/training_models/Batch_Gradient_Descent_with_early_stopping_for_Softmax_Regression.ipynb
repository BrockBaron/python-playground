{
 "cells": [
  {
   "cell_type": "markdown",
   "metadata": {},
   "source": [
    "# Batch Gradient Descent with early stopping for Softmax Regression (without using Scikit-Learn)"
   ]
  },
  {
   "cell_type": "code",
   "execution_count": 1,
   "metadata": {},
   "outputs": [],
   "source": [
    "import numpy as np\n",
    "from sklearn import datasets\n",
    "import matplotlib.pyplot as plt"
   ]
  },
  {
   "cell_type": "code",
   "execution_count": 2,
   "metadata": {},
   "outputs": [],
   "source": [
    "iris = datasets.load_iris()\n",
    "\n",
    "X = iris['data'][:, (2, 3)]  # petal length, petal width\n",
    "y = iris['target']\n",
    "X_with_bias = np.c_[np.ones([len(X), 1]), X] # concatenation"
   ]
  },
  {
   "cell_type": "code",
   "execution_count": 3,
   "metadata": {},
   "outputs": [],
   "source": [
    "np.random.seed(2042)"
   ]
  },
  {
   "cell_type": "markdown",
   "metadata": {},
   "source": [
    "## Split training set, validation set and test set"
   ]
  },
  {
   "cell_type": "code",
   "execution_count": 4,
   "metadata": {},
   "outputs": [],
   "source": [
    "test_ratio = 0.2\n",
    "validation_ratio = 0.2\n",
    "total_size = len(X_with_bias)\n",
    "\n",
    "test_size = int(test_ratio * total_size)\n",
    "validation_size = int(validation_ratio * total_size)\n",
    "training_size = total_size - test_size - validation_size\n",
    "\n",
    "random_indices = np.random.permutation(total_size)\n",
    "\n",
    "X_training = X_with_bias[random_indices[:training_size]]\n",
    "y_training = y[random_indices[:training_size]]\n",
    "X_validation = X_with_bias[random_indices[training_size:-test_size]]\n",
    "y_validation = y[random_indices[training_size:-test_size]]\n",
    "X_test = X_with_bias[random_indices[-test_size:]]\n",
    "y_test = y[random_indices[-test_size:]]"
   ]
  },
  {
   "cell_type": "markdown",
   "metadata": {},
   "source": [
    "## Define a one-hot matrix"
   ]
  },
  {
   "cell_type": "code",
   "execution_count": 5,
   "metadata": {},
   "outputs": [],
   "source": [
    "def to_one_hot(y):\n",
    "    class_nb = max(y) + 1\n",
    "    matrix_rownb = len(y)\n",
    "    y_one_hot = np.zeros((matrix_rownb, class_nb))\n",
    "    y_one_hot[np.arange(matrix_rownb), y] = 1\n",
    "    \n",
    "    return y_one_hot"
   ]
  },
  {
   "cell_type": "markdown",
   "metadata": {},
   "source": [
    "Converting the vector of class indices into a matrix containing a one-hot vector for each instance"
   ]
  },
  {
   "cell_type": "code",
   "execution_count": 6,
   "metadata": {},
   "outputs": [],
   "source": [
    "y_training_one_hot = to_one_hot(y_training)\n",
    "y_validation_one_hot = to_one_hot(y_validation)\n",
    "y_test_one_hot = to_one_hot(y_test)"
   ]
  },
  {
   "cell_type": "markdown",
   "metadata": {},
   "source": [
    "## Define softmax function"
   ]
  },
  {
   "cell_type": "code",
   "execution_count": 7,
   "metadata": {},
   "outputs": [
    {
     "data": {
      "text/latex": [
       "\\begin{align}\n",
       "\\sigma\\left(\\mathbf{s}(\\mathbf{x})\\right)_k = \\dfrac{\\exp\\left(s_k(\\mathbf{x})\\right)}{\\sum_{j=1}^{K}{\\exp\\left(s_j(\\mathbf{x})\\right)}}\n",
       "\\end{align}\n"
      ],
      "text/plain": [
       "<IPython.core.display.Latex object>"
      ]
     },
     "metadata": {},
     "output_type": "display_data"
    }
   ],
   "source": [
    "%%latex\n",
    "\\begin{align}\n",
    "\\sigma\\left(\\mathbf{s}(\\mathbf{x})\\right)_k = \\dfrac{\\exp\\left(s_k(\\mathbf{x})\\right)}{\\sum_{j=1}^{K}{\\exp\\left(s_j(\\mathbf{x})\\right)}}\n",
    "\\end{align}"
   ]
  },
  {
   "cell_type": "code",
   "execution_count": 8,
   "metadata": {},
   "outputs": [],
   "source": [
    "def softmax(each_class_score):\n",
    "    exps = np.exp(each_class_score)\n",
    "    exp_sums = np.sum(exps, axis=1, keepdims=True)\n",
    "    \n",
    "    return exps / exp_sums"
   ]
  },
  {
   "cell_type": "code",
   "execution_count": 9,
   "metadata": {},
   "outputs": [],
   "source": [
    "nb_inputs = X_training.shape[1] # 2 features + 1 bias term\n",
    "nb_outputs = len(np.unique(y_training)) # 3 iris classes"
   ]
  },
  {
   "cell_type": "markdown",
   "metadata": {},
   "source": [
    "## Train model"
   ]
  },
  {
   "cell_type": "markdown",
   "metadata": {},
   "source": [
    "Cross entropy cost function"
   ]
  },
  {
   "cell_type": "code",
   "execution_count": 10,
   "metadata": {},
   "outputs": [
    {
     "data": {
      "text/latex": [
       "\\begin{align}\n",
       "J(\\mathbf{\\Theta}) = \\dfrac{1}{m}\\sum_{i=1}^{m}\\sum_{k=1}^{K}{y_k^{(i)}\\log\\left(\\hat{p}_k^{(i)}\\right)}\n",
       "\\end{align}\n"
      ],
      "text/plain": [
       "<IPython.core.display.Latex object>"
      ]
     },
     "metadata": {},
     "output_type": "display_data"
    }
   ],
   "source": [
    "%%latex\n",
    "\\begin{align}\n",
    "J(\\mathbf{\\Theta}) = \\dfrac{1}{m}\\sum_{i=1}^{m}\\sum_{k=1}^{K}{y_k^{(i)}\\log\\left(\\hat{p}_k^{(i)}\\right)}\n",
    "\\end{align}"
   ]
  },
  {
   "cell_type": "markdown",
   "metadata": {},
   "source": [
    "Cross entropy gradient vector for class k"
   ]
  },
  {
   "cell_type": "code",
   "execution_count": 11,
   "metadata": {},
   "outputs": [
    {
     "data": {
      "text/latex": [
       "\\begin{align}\n",
       "\\nabla_{\\mathbf{\\theta}^{(k)}} \\, J(\\mathbf{\\Theta}) = \\dfrac{1}{m} \\sum_{i=1}^{m}{ \\left ( \\hat{p}^{(i)}_k - y_k^{(i)} \\right ) \\mathbf{x}^{(i)}}\n",
       "\\end{align}\n"
      ],
      "text/plain": [
       "<IPython.core.display.Latex object>"
      ]
     },
     "metadata": {},
     "output_type": "display_data"
    }
   ],
   "source": [
    "%%latex\n",
    "\\begin{align}\n",
    "\\nabla_{\\mathbf{\\theta}^{(k)}} \\, J(\\mathbf{\\Theta}) = \\dfrac{1}{m} \\sum_{i=1}^{m}{ \\left ( \\hat{p}^{(i)}_k - y_k^{(i)} \\right ) \\mathbf{x}^{(i)}}\n",
    "\\end{align}"
   ]
  },
  {
   "cell_type": "markdown",
   "metadata": {},
   "source": [
    "**/ ! \\** Note that $\\log (\\hat{p}_{k}^{(i)})$ may not be computable if $\\hat{p}_k^{(i)} = 0$. So we will add a tiny value $\\epsilon$ to $\\log (\\hat{p}_{k}^{(i)})$ to avoid getting `nan` values."
   ]
  },
  {
   "cell_type": "markdown",
   "metadata": {},
   "source": [
    "Let's train Softmax model:"
   ]
  },
  {
   "cell_type": "code",
   "execution_count": 12,
   "metadata": {},
   "outputs": [
    {
     "name": "stdout",
     "output_type": "stream",
     "text": [
      "0 5.446205811872683\n",
      "500 0.8350062641405651\n",
      "1000 0.6878801447192402\n",
      "1500 0.6012379137693314\n",
      "2000 0.5444496861981872\n",
      "2500 0.5038530181431525\n",
      "3000 0.47292289721922487\n",
      "3500 0.44824244188957774\n",
      "4000 0.4278651093928793\n",
      "4500 0.41060071429187134\n",
      "5000 0.3956780375390374\n"
     ]
    }
   ],
   "source": [
    "eta = 0.01 # learning rate\n",
    "nb_iterations = 5001\n",
    "m = len(X_training)\n",
    "epsilon = 1e-7\n",
    "\n",
    "theta = np.random.randn(nb_inputs, nb_outputs)\n",
    "\n",
    "for iteration in range(nb_iterations):\n",
    "    logits = X_training.dot(theta)\n",
    "    y_proba = softmax(logits)\n",
    "    loss = -np.mean(np.sum(y_training_one_hot * np.log(y_proba + epsilon), axis=1))\n",
    "    error = y_proba - y_training_one_hot\n",
    "    if iteration % 500 == 0:\n",
    "        print(iteration, loss)\n",
    "    gradients = 1/m * X_training.T.dot(error)\n",
    "    theta = theta - eta * gradients"
   ]
  },
  {
   "cell_type": "code",
   "execution_count": 13,
   "metadata": {},
   "outputs": [
    {
     "data": {
      "text/plain": [
       "array([[ 3.32094157, -0.6501102 , -2.99979416],\n",
       "       [-1.1718465 ,  0.11706172,  0.10507543],\n",
       "       [-0.70224261, -0.09527802,  1.4786383 ]])"
      ]
     },
     "execution_count": 13,
     "metadata": {},
     "output_type": "execute_result"
    }
   ],
   "source": [
    "theta"
   ]
  },
  {
   "cell_type": "markdown",
   "metadata": {},
   "source": [
    "Let's make predictions for the validation set and check the accuracy score:"
   ]
  },
  {
   "cell_type": "code",
   "execution_count": 14,
   "metadata": {},
   "outputs": [
    {
     "data": {
      "text/plain": [
       "0.9666666666666667"
      ]
     },
     "execution_count": 14,
     "metadata": {},
     "output_type": "execute_result"
    }
   ],
   "source": [
    "logits_validation = X_validation.dot(theta)\n",
    "y_validation_proba = softmax(logits_validation)\n",
    "y_validation_predict = np.argmax(y_validation_proba, axis=1)\n",
    "\n",
    "accuracy_score = np.mean(y_validation_predict == y_validation)\n",
    "accuracy_score"
   ]
  },
  {
   "cell_type": "markdown",
   "metadata": {},
   "source": [
    "Now, let's add $\\\\l_2$ regularization:"
   ]
  },
  {
   "cell_type": "code",
   "execution_count": 15,
   "metadata": {},
   "outputs": [
    {
     "name": "stdout",
     "output_type": "stream",
     "text": [
      "0 6.629842469083912\n",
      "500 0.5339667976629505\n",
      "1000 0.5036400750148942\n",
      "1500 0.49468910594603216\n",
      "2000 0.4912968418075476\n",
      "2500 0.48989924700933296\n",
      "3000 0.4892990598451198\n",
      "3500 0.4890351244397859\n",
      "4000 0.4889173621830818\n",
      "4500 0.4888643337449303\n",
      "5000 0.4888403120738818\n"
     ]
    }
   ],
   "source": [
    "eta = 0.1\n",
    "n_iterations = 5001\n",
    "m = len(X_training)\n",
    "epsilon = 1e-7\n",
    "alpha = 0.1  # regularization hyperparameter\n",
    "\n",
    "theta = np.random.randn(nb_inputs, nb_outputs)\n",
    "\n",
    "for iteration in range(n_iterations):\n",
    "    logits = X_training.dot(theta)\n",
    "    y_proba = softmax(logits)\n",
    "    xentropy_loss = -np.mean(np.sum(y_training_one_hot * np.log(y_proba + epsilon), axis=1))\n",
    "    l2_loss = 1/2 * np.sum(np.square(theta[1:]))\n",
    "    loss = xentropy_loss + alpha * l2_loss\n",
    "    error = y_proba - y_training_one_hot\n",
    "    if iteration % 500 == 0:\n",
    "        print(iteration, loss)\n",
    "    gradients = 1/m * X_training.T.dot(error) + np.r_[np.zeros([1, nb_outputs]), alpha * theta[1:]]\n",
    "    theta = theta - eta * gradients"
   ]
  },
  {
   "cell_type": "code",
   "execution_count": 16,
   "metadata": {},
   "outputs": [
    {
     "data": {
      "text/plain": [
       "1.0"
      ]
     },
     "execution_count": 16,
     "metadata": {},
     "output_type": "execute_result"
    }
   ],
   "source": [
    "logits_validation = X_validation.dot(theta)\n",
    "y_validation_proba = softmax(logits_validation)\n",
    "y_validation_predict = np.argmax(y_validation_proba, axis=1)\n",
    "\n",
    "accuracy_score = np.mean(y_validation_predict == y_validation)\n",
    "accuracy_score"
   ]
  },
  {
   "cell_type": "markdown",
   "metadata": {},
   "source": [
    "Let's add early stopping: for this we just need to measure the loss on the validation set at every iteration and stop when the error starts growing."
   ]
  },
  {
   "cell_type": "code",
   "execution_count": 17,
   "metadata": {},
   "outputs": [
    {
     "name": "stdout",
     "output_type": "stream",
     "text": [
      "0 4.7096017363419875\n",
      "500 0.5739711987633519\n",
      "1000 0.5435638529109128\n",
      "1500 0.5355752782580262\n",
      "2000 0.5331959249285545\n",
      "2500 0.5325946767399382\n",
      "2765 0.5325460966791898\n",
      "2766 0.5325460971327978 early stopping !\n"
     ]
    }
   ],
   "source": [
    "eta = 0.1\n",
    "n_iterations = 5001\n",
    "m = len(X_training)\n",
    "epsilon = 1e-7\n",
    "alpha = 0.1  # regularization hyperparameter\n",
    "best_loss = np.infty\n",
    "\n",
    "theta = np.random.randn(nb_inputs, nb_outputs)\n",
    "\n",
    "for iteration in range(n_iterations):\n",
    "    logits = X_training.dot(theta)\n",
    "    y_proba = softmax(logits)\n",
    "    xentropy_loss = -np.mean(np.sum(y_training_one_hot * np.log(y_proba + epsilon), axis=1))\n",
    "    l2_loss = 1/2 * np.sum(np.square(theta[1:]))\n",
    "    loss = xentropy_loss + alpha * l2_loss\n",
    "    error = y_proba - y_training_one_hot\n",
    "    \n",
    "    gradients = 1/m * X_training.T.dot(error) + np.r_[np.zeros([1, nb_outputs]), alpha * theta[1:]]\n",
    "    theta = theta - eta * gradients\n",
    "    \n",
    "    logits = X_validation.dot(theta)\n",
    "    y_proba = softmax(logits)\n",
    "    xentropy_loss = -np.mean(np.sum(y_validation_one_hot * np.log(y_proba + epsilon), axis=1))\n",
    "    l2_loss = 1/2 * np.sum(np.square(theta[1:]))\n",
    "    loss = xentropy_loss + alpha * l2_loss\n",
    "    if iteration % 500 == 0:\n",
    "        print(iteration, loss)\n",
    "    if loss < best_loss:\n",
    "        best_loss = loss\n",
    "    else:\n",
    "        print(iteration - 1, best_loss)\n",
    "        print(iteration, loss, 'early stopping !')\n",
    "        break"
   ]
  },
  {
   "cell_type": "code",
   "execution_count": 18,
   "metadata": {},
   "outputs": [
    {
     "data": {
      "text/plain": [
       "1.0"
      ]
     },
     "execution_count": 18,
     "metadata": {},
     "output_type": "execute_result"
    }
   ],
   "source": [
    "logits_validation = X_validation.dot(theta)\n",
    "y_validation_proba = softmax(logits_validation)\n",
    "y_validation_predict = np.argmax(y_validation_proba, axis=1)\n",
    "\n",
    "accuracy_score = np.mean(y_validation_predict == y_validation)\n",
    "accuracy_score"
   ]
  },
  {
   "cell_type": "code",
   "execution_count": 19,
   "metadata": {},
   "outputs": [
    {
     "data": {
      "image/png": "[encoded data removed]",
      "text/plain": [
       "<Figure size 720x288 with 1 Axes>"
      ]
     },
     "metadata": {
      "needs_background": "light"
     },
     "output_type": "display_data"
    }
   ],
   "source": [
    "# Inspired by https://github.com/ageron/handson-ml/blob/master/04_training_linear_models.ipynb\n",
    "x0, x1 = np.meshgrid(\n",
    "        np.linspace(0, 8, 500).reshape(-1, 1),\n",
    "        np.linspace(0, 3.5, 200).reshape(-1, 1),\n",
    "    )\n",
    "X_new = np.c_[x0.ravel(), x1.ravel()]\n",
    "X_new_with_bias = np.c_[np.ones([len(X_new), 1]), X_new]\n",
    "\n",
    "logits = X_new_with_bias.dot(theta)\n",
    "Y_proba = softmax(logits)\n",
    "y_predict = np.argmax(Y_proba, axis=1)\n",
    "\n",
    "zz1 = Y_proba[:, 1].reshape(x0.shape)\n",
    "zz = y_predict.reshape(x0.shape)\n",
    "\n",
    "plt.figure(figsize=(10, 4))\n",
    "plt.plot(X[y==2, 0], X[y==2, 1], \"g^\", label=\"Iris-Virginica\")\n",
    "plt.plot(X[y==1, 0], X[y==1, 1], \"bs\", label=\"Iris-Versicolor\")\n",
    "plt.plot(X[y==0, 0], X[y==0, 1], \"yo\", label=\"Iris-Setosa\")\n",
    "\n",
    "from matplotlib.colors import ListedColormap\n",
    "custom_cmap = ListedColormap(['#fafab0','#9898ff','#a0faa0'])\n",
    "\n",
    "plt.contourf(x0, x1, zz, cmap=custom_cmap)\n",
    "contour = plt.contour(x0, x1, zz1, cmap=plt.cm.brg)\n",
    "plt.clabel(contour, inline=1, fontsize=12)\n",
    "plt.xlabel(\"Petal length\", fontsize=14)\n",
    "plt.ylabel(\"Petal width\", fontsize=14)\n",
    "plt.legend(loc=\"upper left\", fontsize=14)\n",
    "plt.axis([0, 7, 0, 3.5])\n",
    "plt.show()"
   ]
  },
  {
   "cell_type": "markdown",
   "metadata": {},
   "source": [
    "## Test model"
   ]
  },
  {
   "cell_type": "markdown",
   "metadata": {},
   "source": [
    "Now, let's measure the final model's accuracy with test set:"
   ]
  },
  {
   "cell_type": "code",
   "execution_count": 20,
   "metadata": {},
   "outputs": [
    {
     "data": {
      "text/plain": [
       "0.9333333333333333"
      ]
     },
     "execution_count": 20,
     "metadata": {},
     "output_type": "execute_result"
    }
   ],
   "source": [
    "logits_test = X_test.dot(theta)\n",
    "y_test_proba = softmax(logits_test)\n",
    "y_test_predict = np.argmax(y_test_proba, axis=1)\n",
    "\n",
    "accuracy_score = np.mean(y_test_predict == y_test)\n",
    "accuracy_score"
   ]
  },
  {
   "cell_type": "code",
   "execution_count": null,
   "metadata": {},
   "outputs": [],
   "source": []
  }
 ],
 "metadata": {
  "kernelspec": {
   "display_name": "Python 3",
   "language": "python",
   "name": "python3"
  },
  "language_info": {
   "codemirror_mode": {
    "name": "ipython",
    "version": 3
   },
   "file_extension": ".py",
   "mimetype": "text/x-python",
   "name": "python",
   "nbconvert_exporter": "python",
   "pygments_lexer": "ipython3",
   "version": "3.7.2"
  }
 },
 "nbformat": 4,
 "nbformat_minor": 2
}
