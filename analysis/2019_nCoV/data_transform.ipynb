{
 "cells": [
  {
   "cell_type": "code",
   "execution_count": null,
   "metadata": {},
   "outputs": [],
   "source": [
    "import pandas as pd\n",
    "from datetime import datetime, date\n",
    "import numpy as np\n",
    "from dateutil.relativedelta import relativedelta\n"
   ]
  },
  {
   "cell_type": "code",
   "execution_count": null,
   "metadata": {},
   "outputs": [],
   "source": [
    "now = datetime.now()\n",
    "yesterday = (now + relativedelta(days=-1)).date()\n",
    "\n",
    "filename = '%02d-%02d-%d.csv' % (yesterday.month, yesterday.day, yesterday.year)\n",
    "df = pd.read_csv(filename)"
   ]
  },
  {
   "cell_type": "code",
   "execution_count": null,
   "metadata": {},
   "outputs": [],
   "source": [
    "new_old_country_name = {\n",
    "    'China':'Mainland China',\n",
    "    'Hong Kong SAR':'Hong Kong',\n",
    "    'Macao SAR':'Macau',\n",
    "    'Taipei and environs':'Taiwan',\n",
    "    'Taiwan*':'Taiwan',\n",
    "    'Iran (Islamic Republic of)':'Iran',\n",
    "    'Republic of Korea':'South Korea',\n",
    "    'Korea, South':'South Korea',\n",
    "    'Viet Nam':'Vietnam',\n",
    "    'occupied Palestinian territory':'Palestine',\n",
    "    'Russian Federation':'Russia',\n",
    "    'Republic of Moldova':'Moldova',\n",
    "    'Saint Martin':'St. Martin',\n",
    "    'United Kingdom':'UK',\n",
    "    'Czechia':'Czech Republic',\n",
    "    'Congo (Kinshasa)':'Democratic Republic of the Congo',\n",
    "    '':'',\n",
    "}\n",
    "\n",
    "def unify_country_name(transfer_dict, country_name):\n",
    "    if country_name in new_old_country_name:\n",
    "        return new_old_country_name[country_name]\n",
    "    else:\n",
    "        return country_name"
   ]
  },
  {
   "cell_type": "code",
   "execution_count": null,
   "metadata": {},
   "outputs": [],
   "source": [
    "df = df[['Country/Region', 'Province/State', 'Confirmed', 'Recovered', 'Deaths', 'Last Update']]\n",
    "df.columns = ['countryName', 'cityName', 'confirmedCount', 'curedCount', 'deadCount', 'updateTime']\n",
    "\n",
    "df['countryName'] = df['countryName'].apply(lambda x: unify_country_name(new_old_country_name, x))\n",
    "df['updateTime'] = df['updateTime'].apply(lambda d: datetime.strptime(d, '%Y-%m-%dT%H:%M:%S'))\n",
    "df['Date_ymd'] = df['updateTime'].apply(lambda d: d.date())\n",
    "df['Time_hms'] = df['updateTime'].apply(lambda d: d.time())\n",
    "\n",
    "df = df[(df['Date_ymd'] == yesterday) & \\\n",
    "        (df['countryName'].isin(['Mainland China', 'Hong Kong', 'Taiwan', 'Macau'])==False)]\n",
    "\n",
    "df['cityName'] = df['cityName'].fillna(df['countryName'])\n",
    "df = df.drop(columns=['Date_ymd', 'Time_hms'])"
   ]
  },
  {
   "cell_type": "code",
   "execution_count": null,
   "metadata": {},
   "outputs": [],
   "source": [
    "df.head()"
   ]
  },
  {
   "cell_type": "code",
   "execution_count": null,
   "metadata": {},
   "outputs": [],
   "source": [
    "country_continent_dict = {\n",
    "    'South Korea':'Asia',\n",
    "    'Iran':'Asia',\n",
    "    'Others':'Asia',\n",
    "    'Cruise Ship':'Asia',\n",
    "    'Japan':'Asia',\n",
    "    'Singapore':'Asia',\n",
    "    'Malaysia':'Asia',\n",
    "    'Bahrain':'Asia', \n",
    "    'Thailand':'Asia',\n",
    "    'Iraq':'Asia',\n",
    "    'India':'Asia',\n",
    "    'Lebanon':'Asia',\n",
    "    'Israel':'Asia',\n",
    "    'Palestine':'Asia',\n",
    "    'Pakistan':'Asia',\n",
    "    'Philippines':'Asia',\n",
    "    'Indonesia':'Asia',\n",
    "    'Bhutan':'Asia',\n",
    "    'Kuwait':'Asia',\n",
    "    'United Arab Emirates':'Asia',\n",
    "    'Vietnam':'Asia',\n",
    "    'Azerbaijan':'Asia',\n",
    "    'Qatar':'Asia',\n",
    "    'Georgia':'Asia',\n",
    "    'Saudi Arabia':'Asia',\n",
    "    'Afghanistan':'Asia',\n",
    "    'Maldives':'Asia',\n",
    "    'Bangladesh':'Asia',\n",
    "    'Cambodia':'Asia',\n",
    "    'Brunei':'Asia',\n",
    "    'Oman':'Asia',\n",
    "    'Mongolia':'Asia',\n",
    "    'Nepal':'Asia',\n",
    "    'Sri Lanka':'Asia',\n",
    "    'Armenia':'Asia',\n",
    "    'Italy':'Europe',\n",
    "    'Germany':'Europe',\n",
    "    'France':'Europe',\n",
    "    'Spain':'Europe',\n",
    "    'Switzerland':'Europe',\n",
    "    'UK':'Europe',\n",
    "    'Netherlands':'Europe',\n",
    "    'Belgium':'Europe',\n",
    "    'Norway':'Europe',\n",
    "    'Sweden':'Europe',\n",
    "    'Austria':'Europe',\n",
    "    'Greece':'Europe',\n",
    "    'Iceland':'Europe',\n",
    "    'Denmark':'Europe',\n",
    "    'Czech Republic':'Europe',\n",
    "    'Ireland':'Europe',\n",
    "    'Finland':'Europe',\n",
    "    'Portugal':'Europe',\n",
    "    'Russia':'Europe',\n",
    "    'Croatia':'Europe',\n",
    "    'Estonia':'Europe',\n",
    "    'Romania':'Europe',\n",
    "    'Slovenia':'Europe',\n",
    "    'Poland':'Europe',\n",
    "    'North Macedonia':'Europe',\n",
    "    'Luxembourg':'Europe',\n",
    "    'Serbia':'Europe',\n",
    "    'Slovakia':'Europe',\n",
    "    'San Marino':'Europe',\n",
    "    'Vatican City':'Europe',\n",
    "    'French Guiana':'Europe',\n",
    "    'Hungary':'Europe',\n",
    "    'Bosnia and Herzegovina':'Europe',\n",
    "    'Malta':'Europe',\n",
    "    'Martinique':'Europe',\n",
    "    'Republic of Ireland':'Europe',\n",
    "    'Bulgaria':'Europe',\n",
    "    'Faroe Islands':'Europe',\n",
    "    'Latvia':'Europe',\n",
    "    'Moldova':'Europe',\n",
    "    'Belarus':'Europe',\n",
    "    'Albania':'Europe',\n",
    "    'Cyprus':'Europe',\n",
    "    'Saint Barthelemy':'Europe',\n",
    "    'Channel Islands':'Europe',\n",
    "    'Gibraltar':'Europe',\n",
    "    'Holy See':'Europe',\n",
    "    'Lithuania':'Europe',\n",
    "    'Reunion':'Europe',\n",
    "    'Turkey':'Europe',\n",
    "    'Monaco':'Europe',\n",
    "    'Andorra':'Europe',\n",
    "    'US':'North America',\n",
    "    'Canada':'North America',\n",
    "    'Mexico':'North America',\n",
    "    'Dominican Republic':'North America',\n",
    "    'Costa Rica':'North America',\n",
    "    'St. Martin':'North America',\n",
    "    'Honduras':'North America',\n",
    "    'Panama':'North America',\n",
    "    'Jamaica':'North America',\n",
    "    'Cuba':'North America',\n",
    "    'Australia':'Australia',\n",
    "    'New Zealand':'Australia',\n",
    "    'Algeria':'Africa',\n",
    "    'Egypt':'Africa',\n",
    "    'Cameroon':'Africa',\n",
    "    'South Africa':'Africa',\n",
    "    'Togo':'Africa',\n",
    "    'Senegal':'Africa',\n",
    "    'Tunisia':'Africa',\n",
    "    'Nigeria':'Africa',\n",
    "    'Morocco':'Africa',\n",
    "    'Burkina Faso':'Africa',\n",
    "    'Democratic Republic of the Congo':'Africa',\n",
    "    'Cote d\\'Ivoire':'Africa',\n",
    "    'Brazil':'South America',\n",
    "    'Argentina':'South America',\n",
    "    'Colombia':'South America',\n",
    "    'Peru':'South America',\n",
    "    'Ecuador':'South America',\n",
    "    'Chile':'South America',\n",
    "    'Paraguay':'South America',\n",
    "    'Bolivia':'South America',\n",
    "    'Guyana':'South America'\n",
    "}\n"
   ]
  },
  {
   "cell_type": "code",
   "execution_count": null,
   "metadata": {
    "scrolled": true
   },
   "outputs": [],
   "source": [
    "df.insert(loc=0, column='continentName', value=0)\n",
    "df['continentName'] = df['countryName'].map(country_continent_dict)"
   ]
  },
  {
   "cell_type": "code",
   "execution_count": null,
   "metadata": {
    "scrolled": false
   },
   "outputs": [],
   "source": [
    "df[df['continentName'].isnull()]"
   ]
  },
  {
   "cell_type": "code",
   "execution_count": null,
   "metadata": {},
   "outputs": [],
   "source": [
    "df.head(2)"
   ]
  },
  {
   "cell_type": "code",
   "execution_count": null,
   "metadata": {},
   "outputs": [],
   "source": [
    "df.to_csv(filename, index=False)"
   ]
  },
  {
   "cell_type": "code",
   "execution_count": null,
   "metadata": {},
   "outputs": [],
   "source": []
  },
  {
   "cell_type": "code",
   "execution_count": null,
   "metadata": {},
   "outputs": [],
   "source": []
  }
 ],
 "metadata": {
  "kernelspec": {
   "display_name": "Python 3",
   "language": "python",
   "name": "python3"
  },
  "language_info": {
   "codemirror_mode": {
    "name": "ipython",
    "version": 3
   },
   "file_extension": ".py",
   "mimetype": "text/x-python",
   "name": "python",
   "nbconvert_exporter": "python",
   "pygments_lexer": "ipython3",
   "version": "3.7.3"
  }
 },
 "nbformat": 4,
 "nbformat_minor": 2
}
