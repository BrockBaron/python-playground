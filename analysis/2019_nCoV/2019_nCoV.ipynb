{
 "cells": [
  {
   "cell_type": "markdown",
   "metadata": {},
   "source": [
    "http://datav.aliyun.com/tools/atlas/#&lat=33.50475906922609&lng=104.32617187499999&zoom=4<br>\n",
    "https://stackoverflow.com/questions/55106744/how-do-you-convert-shapely-multipolygon-to-polygon"
   ]
  },
  {
   "cell_type": "code",
   "execution_count": null,
   "metadata": {},
   "outputs": [],
   "source": [
    "import pandas as pd\n",
    "from datetime import datetime\n",
    "\n",
    "import geopandas\n",
    "import folium\n",
    "import branca.colormap as cm"
   ]
  },
  {
   "cell_type": "code",
   "execution_count": null,
   "metadata": {},
   "outputs": [],
   "source": [
    "data_df = pd.read_csv('DXYArea.csv')\n",
    "china_gdf = geopandas.read_file('china_geo.json', driver='JSON')"
   ]
  },
  {
   "cell_type": "code",
   "execution_count": null,
   "metadata": {},
   "outputs": [],
   "source": [
    "# def multipolygon_to_polygons_dict(geo_dict, province, geometry):\n",
    "#     polygon_lst = []\n",
    "#     for polygon in geometry:\n",
    "#         polygon_lst.append(polygon)\n",
    "    \n",
    "#     geo_dict[province] = polygon_lst\n",
    "#     return geo_dict\n",
    "\n",
    "# province_polygons_dict = {}\n",
    "\n",
    "# province_polygons_dict = \\\n",
    "# china_gdf.apply(lambda row: multipolygon_to_polygons_dict(province_polygons_dict, row['name'], row['geometry']),\n",
    "#                 axis='columns')\n",
    "\n",
    "# province_polygons_dict = province_polygons_dict[len(province_polygons_dict)-1]\n",
    "\n",
    "# province_polygons_dict\n",
    "\n",
    "# china_polygons_gdf = geopandas.GeoDataFrame(columns=['province', 'geometry'])\n",
    "\n",
    "# for province, geometry in province_polygons_dict.items():\n",
    "# #     print(province)\n",
    "# #     print(geometry)\n",
    "# #     print(len(geometry))\n",
    "#     if len(geometry) == 1:\n",
    "#         china_polygons_gdf.loc[len(china_polygons_gdf), 'province'] = province\n",
    "#         china_polygons_gdf.loc[len(china_polygons_gdf)-1, 'geometry'] = geometry[0]\n",
    "#     else:\n",
    "#         for i in range(len(geometry)):\n",
    "# #             print(geometry[i])\n",
    "#             china_polygons_gdf.loc[len(china_polygons_gdf), 'province'] = province\n",
    "#             china_polygons_gdf.loc[len(china_polygons_gdf)-1, 'geometry'] = geometry[i]\n",
    "         \n",
    "\n",
    "# #     print('---')"
   ]
  },
  {
   "cell_type": "code",
   "execution_count": null,
   "metadata": {
    "scrolled": true
   },
   "outputs": [],
   "source": [
    "# http://d3.decembercafe.org/pages/map/chinamap.html\n",
    "# china_gdf = geopandas.read_file('china.geojson', driver='GeoJSON')"
   ]
  },
  {
   "cell_type": "code",
   "execution_count": null,
   "metadata": {},
   "outputs": [],
   "source": [
    "data_df['updateTime'] = data_df.updateTime.apply(lambda d: datetime.strptime(d, '%Y-%m-%d %H:%M:%S.%f'))\n",
    "data_df['Date_ymd'] = data_df.updateTime.apply(lambda d: d.strftime('%Y-%m-%d'))\n",
    "data_df['Time_hms'] = data_df.updateTime.apply(lambda d: d.strftime('%H:%M:%S'))\n",
    "\n",
    "data_df = data_df.sort_values(by='updateTime')\n",
    "data_df = data_df.reset_index(drop=True)"
   ]
  },
  {
   "cell_type": "code",
   "execution_count": null,
   "metadata": {},
   "outputs": [],
   "source": [
    "# 澳门特别行政区\n",
    "data_df.loc[data_df['provinceName']=='澳门', 'provinceName'] = '澳门特别行政区'\n",
    "\n",
    "# 上海市\n",
    "data_df.loc[(data_df['provinceName']=='上海市') & (data_df['cityName']=='嘉定'), 'cityName'] = '嘉定区'\n",
    "data_df.loc[(data_df['provinceName']=='上海市') & (data_df['cityName']=='奉贤'), 'cityName'] = '奉贤区'\n",
    "data_df.loc[(data_df['provinceName']=='上海市') & (data_df['cityName']=='宝山'), 'cityName'] = '宝山区'\n",
    "data_df.loc[(data_df['provinceName']=='上海市') & (data_df['cityName']=='徐汇'), 'cityName'] = '徐汇区'\n",
    "data_df.loc[(data_df['provinceName']=='上海市') & (data_df['cityName']=='杨浦'), 'cityName'] = '杨浦区'\n",
    "data_df.loc[(data_df['provinceName']=='上海市') & (data_df['cityName']=='松江'), 'cityName'] = '松江区'\n",
    "data_df.loc[(data_df['provinceName']=='上海市') & (data_df['cityName']=='虹口'), 'cityName'] = '虹口区'\n",
    "data_df.loc[(data_df['provinceName']=='上海市') & (data_df['cityName']=='金山'), 'cityName'] = '金山区'\n",
    "data_df.loc[(data_df['provinceName']=='上海市') & (data_df['cityName']=='长宁'), 'cityName'] = '长宁区'\n",
    "data_df.loc[(data_df['provinceName']=='上海市') & (data_df['cityName']=='闵行'), 'cityName'] = '闵行区'\n",
    "data_df.loc[(data_df['provinceName']=='上海市') & (data_df['cityName']=='青浦'), 'cityName'] = '青浦区'\n",
    "data_df.loc[(data_df['provinceName']=='上海市') & (data_df['cityName']=='静安'), 'cityName'] = '静安区'\n",
    "data_df.loc[(data_df['provinceName']=='上海市') & (data_df['cityName']=='黄浦'), 'cityName'] = '黄浦区'\n",
    "data_df.loc[(data_df['provinceName']=='上海市') & (data_df['cityName'].isin(['浦东', '浦东区'])), 'cityName'] = '浦东新区'\n",
    "\n",
    "# 云南省\n",
    "data_df.loc[(data_df['provinceName']=='云南省') & (data_df['cityName']=='丽江市'), 'cityName'] = '丽江'\n",
    "data_df.loc[(data_df['provinceName']=='云南省') & (data_df['cityName']=='西双版纳州'), 'cityName'] = '西双版纳'\n",
    "\n",
    "# 内蒙古自治区\n",
    "data_df.loc[(data_df['provinceName']=='内蒙古自治区') & (data_df['cityName']=='乌海'), 'cityName'] = '乌海市'\n",
    "data_df.loc[(data_df['provinceName']=='内蒙古自治区') & (data_df['cityName']=='通辽市经济开发区'), 'cityName'] = '通辽'\n",
    "data_df.loc[(data_df['provinceName']=='内蒙古自治区') & (data_df['cityName']=='呼和浩特（新城区）'), 'cityName'] = '呼和浩特'\n",
    "data_df.loc[(data_df['provinceName']=='内蒙古自治区') & (data_df['cityName']=='兴安盟乌兰浩特'), 'cityName'] = '兴安盟'\n",
    "data_df.loc[(data_df['provinceName']=='内蒙古自治区') & (data_df['cityName'].isin(['包头市东河区', '包头市昆都仑区'])), 'cityName'] = '包头'\n",
    "data_df.loc[(data_df['provinceName']=='内蒙古自治区') & (data_df['cityName'].isin(['赤峰市松山区', '赤峰市林西县'])), 'cityName'] = '赤峰'\n",
    "data_df.loc[(data_df['provinceName']=='内蒙古自治区') & (data_df['cityName'].isin(['鄂尔多斯东胜区', '鄂尔多斯鄂托克前旗'])), 'cityName'] = '鄂尔多斯'\n",
    "data_df.loc[(data_df['provinceName']=='内蒙古自治区') & (data_df['cityName'].isin(['锡林郭勒', '锡林郭勒盟二连浩特', '锡林郭勒盟锡林浩特'])), 'cityName'] = '锡林郭勒盟'\n",
    "data_df.loc[(data_df['provinceName']=='内蒙古自治区') & (data_df['cityName'].isin(['满洲里', '呼伦贝尔满洲里', '呼伦贝尔牙克石', '呼伦贝尔牙克石市'])), 'cityName'] = '呼伦贝尔'\n",
    "\n",
    "# 北京市\n",
    "data_df.loc[(data_df['provinceName']=='北京市') & (data_df['cityName']=='东城'), 'cityName'] = '东城区'\n",
    "data_df.loc[(data_df['provinceName']=='北京市') & (data_df['cityName']=='丰台'), 'cityName'] = '丰台区'\n",
    "data_df.loc[(data_df['provinceName']=='北京市') & (data_df['cityName']=='大兴'), 'cityName'] = '大兴区'\n",
    "data_df.loc[(data_df['provinceName']=='北京市') & (data_df['cityName']=='怀柔'), 'cityName'] = '怀柔区'\n",
    "data_df.loc[(data_df['provinceName']=='北京市') & (data_df['cityName']=='昌平'), 'cityName'] = '昌平区'\n",
    "data_df.loc[(data_df['provinceName']=='北京市') & (data_df['cityName']=='朝阳'), 'cityName'] = '朝阳区'\n",
    "data_df.loc[(data_df['provinceName']=='北京市') & (data_df['cityName']=='海淀'), 'cityName'] = '海淀区'\n",
    "data_df.loc[(data_df['provinceName']=='北京市') & (data_df['cityName']=='西城'), 'cityName'] = '西城区'\n",
    "data_df.loc[(data_df['provinceName']=='北京市') & (data_df['cityName']=='顺义'), 'cityName'] = '顺义区'\n",
    "data_df.loc[(data_df['provinceName']=='北京市') & (data_df['cityName']=='通州'), 'cityName'] = '通州区'\n",
    "data_df.loc[(data_df['provinceName']=='北京市') & (data_df['cityName']=='石景山'), 'cityName'] = '石景山区'\n",
    "data_df.loc[(data_df['provinceName']=='北京市') & (data_df['cityName']=='门头沟'), 'cityName'] = '门头沟区'\n",
    "data_df.loc[(data_df['provinceName']=='北京市') & (data_df['cityName']=='武汉来京人员'), 'cityName'] = '外地来京人员'\n",
    "\n",
    "# 吉林省\n",
    "data_df.loc[(data_df['provinceName']=='吉林省') & (data_df['cityName']=='吉林'), 'cityName'] = '吉林市'\n",
    "data_df.loc[(data_df['provinceName']=='吉林省') & (data_df['cityName']=='四平市'), 'cityName'] = '四平'\n",
    "\n",
    "# 四川省\n",
    "data_df.loc[(data_df['provinceName']=='四川省') & (data_df['cityName']=='凉山'), 'cityName'] = '凉山州'\n",
    "\n",
    "# 天津市\n",
    "data_df.loc[(data_df['provinceName']=='天津市') & (data_df['cityName']=='宁河'), 'cityName'] = '宁河区'\n",
    "data_df.loc[(data_df['provinceName']=='天津市') & (data_df['cityName']=='外地来津'), 'cityName'] = '外地来津人员'\n",
    "\n",
    "# 宁夏回族自治区\n",
    "data_df.loc[(data_df['provinceName']=='宁夏回族自治区') & (data_df['cityName']=='宁东'), 'cityName'] = '宁东管委会'\n",
    "\n",
    "# 安徽省\n",
    "data_df.loc[(data_df['provinceName']=='安徽省') & (data_df['cityName']=='歙县'), 'cityName'] = '黄山'\n",
    "data_df.loc[(data_df['provinceName']=='安徽省') & (data_df['cityName']=='宿松'), 'cityName'] = '安庆'\n",
    "\n",
    "# 山东省\n",
    "data_df.loc[(data_df['provinceName']=='山东省') & (data_df['cityName']=='淄博市'), 'cityName'] = '淄博'\n",
    "\n",
    "# 山西省\n",
    "data_df.loc[(data_df['provinceName']=='山西省') & (data_df['cityName']=='临汾市'), 'cityName'] = '临汾'\n",
    "data_df.loc[(data_df['provinceName']=='山西省') & (data_df['cityName']=='朔州市'), 'cityName'] = '朔州'\n",
    "\n",
    "# 广东省\n",
    "data_df.loc[(data_df['provinceName']=='广东省') & (data_df['cityName']=='河源市'), 'cityName'] = '河源'\n",
    "data_df.loc[(data_df['provinceName']=='广东省') & (data_df['cityName']=='外地来穗人员'), 'cityName'] = '外地来粤人员'\n",
    "\n",
    "# 新疆维吾尔自治区\n",
    "data_df.loc[(data_df['provinceName']=='新疆维吾尔自治区') & (data_df['cityName']=='吐鲁番市'), 'cityName'] = '吐鲁番'\n",
    "data_df.loc[(data_df['provinceName']=='新疆维吾尔自治区') &\n",
    "            (data_df['cityName'].isin(['第七师', '第九师', '第八师', '第八师石河子', '第八师石河子市', '第六师'])),\n",
    "            'cityName'] = '石河子'\n",
    "\n",
    "# 江苏省\n",
    "data_df.loc[(data_df['provinceName']=='江苏省') & (data_df['cityName']=='待明确'), 'cityName'] = '待明确地区'\n",
    "\n",
    "# 河北省\n",
    "data_df.loc[(data_df['provinceName']=='河北省') & (data_df['cityName']=='邯郸市'), 'cityName'] = '邯郸'\n",
    "\n",
    "# 河南省\n",
    "data_df.loc[(data_df['provinceName']=='河南省') & (data_df['cityName']=='巩义'), 'cityName'] = '邓州'\n",
    "data_df.loc[(data_df['provinceName']=='河南省') & (data_df['cityName']=='固始县'), 'cityName'] = '信阳'\n",
    "data_df.loc[(data_df['provinceName']=='河南省') & (data_df['cityName']=='漯河市'), 'cityName'] = '漯河'\n",
    "data_df.loc[(data_df['provinceName']=='河南省') & (data_df['cityName']=='鹤壁市'), 'cityName'] = '鹤壁'\n",
    "data_df.loc[(data_df['provinceName']=='河南省') & (data_df['cityName'].isin(['南阳（含邓州）', '邓州'])), 'cityName'] = '南阳'\n",
    "data_df.loc[(data_df['provinceName']=='河南省') & (data_df['cityName'].isin(['商丘（含永城）', '永城'])), 'cityName'] = '商丘'\n",
    "data_df.loc[(data_df['provinceName']=='河南省') & (data_df['cityName'].isin(['新乡（含长垣）', '长垣', '长垣县'])), 'cityName'] = '新乡'\n",
    "data_df.loc[(data_df['provinceName']=='河南省') & (data_df['cityName'].isin(['安阳市', '安阳（含滑县）', '滑县'])), 'cityName'] = '安阳'\n",
    "\n",
    "# 海南省\n",
    "data_df.loc[(data_df['provinceName']=='海南省') & (data_df['cityName']=='东方市'), 'cityName'] = '东方'\n",
    "data_df.loc[(data_df['provinceName']=='海南省') & (data_df['cityName']=='临高县'), 'cityName'] = '临高'\n",
    "data_df.loc[(data_df['provinceName']=='海南省') & (data_df['cityName']=='澄迈县'), 'cityName'] = '澄迈'\n",
    "data_df.loc[(data_df['provinceName']=='海南省') & (data_df['cityName']=='琼中县'), 'cityName'] = '琼中'\n",
    "data_df.loc[(data_df['provinceName']=='海南省') & (data_df['cityName']=='琼海市'), 'cityName'] = '琼海'\n",
    "data_df.loc[(data_df['provinceName']=='海南省') & (data_df['cityName']=='陵水县'), 'cityName'] = '陵水'\n",
    "\n",
    "# 湖北省\n",
    "data_df.loc[(data_df['provinceName']=='湖北省') & (data_df['cityName']=='恩施'), 'cityName'] = '恩施州'\n",
    "\n",
    "# 甘肃省\n",
    "data_df.loc[(data_df['provinceName']=='甘肃省') & (data_df['cityName']=='天水市'), 'cityName'] = '天水'\n",
    "data_df.loc[(data_df['provinceName']=='甘肃省') & (data_df['cityName']=='平凉市'), 'cityName'] = '平凉'\n",
    "data_df.loc[(data_df['provinceName']=='甘肃省') & (data_df['cityName']=='白银市'), 'cityName'] = '白银'\n",
    "data_df.loc[(data_df['provinceName']=='甘肃省') & (data_df['cityName']=='金昌市'), 'cityName'] = '金昌'\n",
    "data_df.loc[(data_df['provinceName']=='甘肃省') & (data_df['cityName']==''), 'cityName'] = ''\n",
    "\n",
    "# 重庆市\n",
    "data_df.loc[(data_df['provinceName']=='重庆市') & (data_df['cityName']=='丰都'), 'cityName'] = '丰都县'\n",
    "data_df.loc[(data_df['provinceName']=='重庆市') & (data_df['cityName']=='云阳'), 'cityName'] = '云阳县'\n",
    "data_df.loc[(data_df['provinceName']=='重庆市') & (data_df['cityName']=='垫江'), 'cityName'] = '垫江县'\n",
    "data_df.loc[(data_df['provinceName']=='重庆市') & (data_df['cityName']=='城口'), 'cityName'] = '城口县'\n",
    "data_df.loc[(data_df['provinceName']=='重庆市') & (data_df['cityName']=='奉节'), 'cityName'] = '奉节县'\n",
    "data_df.loc[(data_df['provinceName']=='重庆市') & (data_df['cityName']=='巫山'), 'cityName'] = '巫山县'\n",
    "data_df.loc[(data_df['provinceName']=='重庆市') & (data_df['cityName']=='巫溪'), 'cityName'] = '巫溪县'\n",
    "data_df.loc[(data_df['provinceName']=='重庆市') & (data_df['cityName']=='石柱'), 'cityName'] = '石柱县'\n",
    "data_df.loc[(data_df['provinceName']=='重庆市') & (data_df['cityName']=='秀山'), 'cityName'] = '秀山县'\n",
    "data_df.loc[(data_df['provinceName']=='重庆市') & (data_df['cityName']=='酉阳县'), 'cityName'] = '酉阳'\n",
    "\n",
    "# 青海省\n",
    "data_df.loc[(data_df['provinceName']=='青海省') & (data_df['cityName']=='西宁市'), 'cityName'] = '西宁'\n",
    "data_df.loc[(data_df['provinceName']=='青海省') & (data_df['cityName']=='北海州'), 'cityName'] = '海北州'\n"
   ]
  },
  {
   "cell_type": "code",
   "execution_count": null,
   "metadata": {},
   "outputs": [],
   "source": [
    "province_daily_last = data_df.groupby(['provinceName', 'Date_ymd'])['Time_hms'].max().reset_index()\n",
    "\n",
    "for i, cols in province_daily_last.iterrows():\n",
    "    province_daily_last.loc[i, 'province_confirmedCount'] = data_df[(data_df['provinceName'] == cols['provinceName']) &\n",
    "                                                                    (data_df['Date_ymd'] == cols['Date_ymd']) &\n",
    "                                                                    (data_df['Time_hms'] == cols['Time_hms'])]['province_confirmedCount'].unique()[0]\n",
    "    province_daily_last.loc[i, 'province_suspectedCount'] = data_df[(data_df['provinceName'] == cols['provinceName']) &\n",
    "                                                                    (data_df['Date_ymd'] == cols['Date_ymd']) &\n",
    "                                                                    (data_df['Time_hms'] == cols['Time_hms'])]['province_suspectedCount'].unique()[0]\n",
    "    province_daily_last.loc[i, 'province_curedCount'] = data_df[(data_df['provinceName'] == cols['provinceName']) &\n",
    "                                                                    (data_df['Date_ymd'] == cols['Date_ymd']) &\n",
    "                                                                    (data_df['Time_hms'] == cols['Time_hms'])]['province_curedCount'].unique()[0]\n",
    "    province_daily_last.loc[i, 'province_deadCount'] = data_df[(data_df['provinceName'] == cols['provinceName']) &\n",
    "                                                                    (data_df['Date_ymd'] == cols['Date_ymd']) &\n",
    "                                                                    (data_df['Time_hms'] == cols['Time_hms'])]['province_deadCount'].unique()[0]\n",
    "\n",
    "province_daily_last = province_daily_last.sort_values(by=['provinceName', 'Date_ymd'])\n",
    "province_daily_last = province_daily_last.reset_index(drop=True)"
   ]
  },
  {
   "cell_type": "code",
   "execution_count": null,
   "metadata": {
    "scrolled": true
   },
   "outputs": [],
   "source": [
    "province_daily_last.head()"
   ]
  },
  {
   "cell_type": "code",
   "execution_count": null,
   "metadata": {},
   "outputs": [],
   "source": [
    "city_daily_last = data_df.groupby(['provinceName', 'cityName', 'Date_ymd'])['Time_hms'].max().reset_index()\n",
    "\n",
    "for i, cols in city_daily_last.iterrows():\n",
    "    city_daily_last.loc[i, 'city_confirmedCount'] = data_df[(data_df['provinceName'] == cols['provinceName']) &\n",
    "                                                            (data_df['cityName'] == cols['cityName']) &\n",
    "                                                            (data_df['Date_ymd'] == cols['Date_ymd']) &\n",
    "                                                            (data_df['Time_hms'] == cols['Time_hms'])]['city_confirmedCount'].values[0]\n",
    "    city_daily_last.loc[i, 'city_suspectedCount'] = data_df[(data_df['provinceName'] == cols['provinceName']) &\n",
    "                                                            (data_df['cityName'] == cols['cityName']) &\n",
    "                                                            (data_df['Date_ymd'] == cols['Date_ymd']) &\n",
    "                                                            (data_df['Time_hms'] == cols['Time_hms'])]['city_suspectedCount'].values[0]\n",
    "    city_daily_last.loc[i, 'city_curedCount'] = data_df[(data_df['provinceName'] == cols['provinceName']) &\n",
    "                                                        (data_df['cityName'] == cols['cityName']) &\n",
    "                                                        (data_df['Date_ymd'] == cols['Date_ymd']) &\n",
    "                                                        (data_df['Time_hms'] == cols['Time_hms'])]['city_curedCount'].values[0]\n",
    "    city_daily_last.loc[i, 'city_deadCount'] = data_df[(data_df['provinceName'] == cols['provinceName']) &\n",
    "                                                       (data_df['cityName'] == cols['cityName']) &\n",
    "                                                       (data_df['Date_ymd'] == cols['Date_ymd']) &\n",
    "                                                       (data_df['Time_hms'] == cols['Time_hms'])]['city_deadCount'].values[0]\n",
    "    "
   ]
  },
  {
   "cell_type": "code",
   "execution_count": null,
   "metadata": {
    "scrolled": true
   },
   "outputs": [],
   "source": [
    "city_daily_last.head()"
   ]
  },
  {
   "cell_type": "markdown",
   "metadata": {},
   "source": [
    "## Map"
   ]
  },
  {
   "cell_type": "markdown",
   "metadata": {},
   "source": [
    "### Actual situation per province"
   ]
  },
  {
   "cell_type": "code",
   "execution_count": null,
   "metadata": {},
   "outputs": [],
   "source": [
    "province_last_df = province_daily_last[province_daily_last.Date_ymd == province_daily_last.Date_ymd.max()]\n",
    "\n",
    "# Complete last data for '西藏自治区', '香港特别行政区', '台湾省'\n",
    "province_last_df.loc[len(province_last_df), 'provinceName'] = '西藏自治区'\n",
    "province_last_df.loc[len(province_last_df)-1, 'Date_ymd'] = province_last_df.iloc[0, 1]\n",
    "province_last_df.loc[len(province_last_df)-1, 'Time_hms'] = province_last_df.iloc[0, 2]\n",
    "province_last_df.loc[len(province_last_df)-1, 'province_confirmedCount'] = 1\n",
    "\n",
    "province_last_df.loc[len(province_last_df), 'provinceName'] = '香港特别行政区'\n",
    "province_last_df.loc[len(province_last_df)-1, 'Date_ymd'] = province_last_df.iloc[0, 1]\n",
    "province_last_df.loc[len(province_last_df)-1, 'Time_hms'] = province_last_df.iloc[0, 2]\n",
    "province_last_df.loc[len(province_last_df)-1, 'province_confirmedCount'] = 26\n",
    "province_last_df.loc[len(province_last_df)-1, 'province_deadCount'] = 1\n",
    "\n",
    "province_last_df.loc[len(province_last_df), 'provinceName'] = '台湾省'\n",
    "province_last_df.loc[len(province_last_df)-1, 'Date_ymd'] = province_last_df.iloc[0, 1]\n",
    "province_last_df.loc[len(province_last_df)-1, 'Time_hms'] = province_last_df.iloc[0, 2]\n",
    "province_last_df.loc[len(province_last_df)-1, 'province_confirmedCount'] = 17\n",
    "province_last_df.loc[len(province_last_df)-1, 'province_curedCount'] = 1\n",
    "\n",
    "province_last_df = province_last_df.fillna(0)"
   ]
  },
  {
   "cell_type": "code",
   "execution_count": null,
   "metadata": {},
   "outputs": [],
   "source": [
    "province_last_geo = pd.merge(province_last_df,\n",
    "                             china_gdf[['name', 'geometry']],\n",
    "                             left_on='provinceName',\n",
    "                             right_on='name')\n",
    "province_last_geo = province_last_geo.drop(columns='name')\n",
    "province_last_geo = province_last_geo.dropna()"
   ]
  },
  {
   "cell_type": "code",
   "execution_count": null,
   "metadata": {},
   "outputs": [],
   "source": [
    "crs = {'init': 'epsg:4326'}\n",
    "province_last_gdf = geopandas.GeoDataFrame(province_last_geo, crs=crs)"
   ]
  },
  {
   "cell_type": "code",
   "execution_count": null,
   "metadata": {},
   "outputs": [],
   "source": [
    "province_map = folium.Map(location=[36.130926, 106.925774],\n",
    "                          zoom_start=4, tiles='cartodbpositron')\n",
    "\n",
    "colormap_province = cm.StepColormap(\n",
    "    colors=['#fdeed5', '#f6a88e', '#e86558',\n",
    "            '#d13035', '#8c1f28', '#59060a'],\n",
    "    vmin=min(province_last_gdf['province_confirmedCount']),\n",
    "    vmax=max(province_last_gdf['province_confirmedCount']),\n",
    "    index=[0, 9, 99, 499, 999, 10000, 100000000])\n",
    "\n",
    "style_function = lambda x: {\n",
    "    'fillColor': colormap_province(x['properties']['province_confirmedCount']),\n",
    "    'color': '',\n",
    "    'weight': 0.0001,\n",
    "    'fillOpacity': 1\n",
    "}\n",
    "\n",
    "folium.GeoJson(\n",
    "    province_last_gdf,\n",
    "    style_function=style_function,\n",
    "    name='confirmed').add_to(province_map)\n",
    "\n",
    "folium.GeoJson(\n",
    "    china_gdf,\n",
    "    style_function = lambda x: {\n",
    "        'color': 'black',\n",
    "        'weight': 2.5,\n",
    "        'fillOpacity': 0\n",
    "    },\n",
    "    name='Province').add_to(province_map)"
   ]
  },
  {
   "cell_type": "code",
   "execution_count": null,
   "metadata": {
    "scrolled": false
   },
   "outputs": [],
   "source": [
    "province_map"
   ]
  },
  {
   "cell_type": "code",
   "execution_count": null,
   "metadata": {},
   "outputs": [],
   "source": [
    "province_map.save('province_20200208.html')"
   ]
  },
  {
   "cell_type": "code",
   "execution_count": null,
   "metadata": {},
   "outputs": [],
   "source": []
  },
  {
   "cell_type": "code",
   "execution_count": null,
   "metadata": {},
   "outputs": [],
   "source": []
  },
  {
   "cell_type": "code",
   "execution_count": null,
   "metadata": {},
   "outputs": [],
   "source": []
  },
  {
   "cell_type": "code",
   "execution_count": null,
   "metadata": {},
   "outputs": [],
   "source": []
  },
  {
   "cell_type": "code",
   "execution_count": null,
   "metadata": {},
   "outputs": [],
   "source": []
  },
  {
   "cell_type": "code",
   "execution_count": null,
   "metadata": {},
   "outputs": [],
   "source": []
  }
 ],
 "metadata": {
  "kernelspec": {
   "display_name": "Python 3",
   "language": "python",
   "name": "python3"
  },
  "language_info": {
   "codemirror_mode": {
    "name": "ipython",
    "version": 3
   },
   "file_extension": ".py",
   "mimetype": "text/x-python",
   "name": "python",
   "nbconvert_exporter": "python",
   "pygments_lexer": "ipython3",
   "version": "3.7.3"
  }
 },
 "nbformat": 4,
 "nbformat_minor": 2
}
