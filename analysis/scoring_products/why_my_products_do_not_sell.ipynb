{
 "cells": [
  {
   "cell_type": "markdown",
   "metadata": {},
   "source": [
    "# Why my products do not sell?\n",
    "\n",
    "# Data Import\n",
    "\n",
    "Let's install the necessary packages for this tutorial:"
   ]
  },
  {
   "cell_type": "code",
   "execution_count": null,
   "metadata": {},
   "outputs": [],
   "source": [
    "import pandas as pd\n",
    "import numpy as np\n",
    "import matplotlib.pyplot as plt\n",
    "%matplotlib inline \n",
    "pd.set_option('display.max_columns', 500)"
   ]
  },
  {
   "cell_type": "code",
   "execution_count": null,
   "metadata": {},
   "outputs": [],
   "source": [
    "%%time\n",
    "X_train = pd.read_csv('X_train.csv', index_col=0, error_bad_lines=False)\n",
    "X_test = pd.read_csv('X_test.csv', index_col=0, error_bad_lines=False)\n",
    "y_train = pd.read_csv('y_train.csv', index_col=0)"
   ]
  },
  {
   "cell_type": "code",
   "execution_count": null,
   "metadata": {},
   "outputs": [],
   "source": [
    "print('Dimension X_train:', X_train.shape)\n",
    "print('Dimension y_train:', y_train.shape)\n",
    "print('Dimension X_test:', X_test.shape)"
   ]
  },
  {
   "cell_type": "code",
   "execution_count": null,
   "metadata": {},
   "outputs": [],
   "source": [
    "X_train.head(3)"
   ]
  },
  {
   "cell_type": "code",
   "execution_count": null,
   "metadata": {},
   "outputs": [],
   "source": [
    "y_train.head(3)"
   ]
  },
  {
   "cell_type": "markdown",
   "metadata": {},
   "source": [
    "# Descriptive analysis\n",
    "\n",
    "## Structure of the datasets\n",
    "\n",
    "The train dataset contains the characteristics and time of sale of **8880** items sold on the Emmaus website. It is this dataset that we will use to create a model. Each object is described by an observation of X variables. These variables are described in the ```description.pdf``` file in the USB key.\n",
    "\n",
    "The test dataset contains the characteristics of **2960 objects**, which must be predicted for the time of sale. Unlike the train, the sell time is of course not filled in and an ```id``` column has been added to identify the predictions during the submission stage."
   ]
  },
  {
   "cell_type": "code",
   "execution_count": null,
   "metadata": {
    "scrolled": true
   },
   "outputs": [],
   "source": [
    "X_train.describe(include='all').T"
   ]
  },
  {
   "cell_type": "code",
   "execution_count": null,
   "metadata": {},
   "outputs": [],
   "source": [
    "X_train.hist(bins=50, figsize=(20, 15))\n",
    "plt.show()"
   ]
  },
  {
   "cell_type": "code",
   "execution_count": null,
   "metadata": {
    "scrolled": true
   },
   "outputs": [],
   "source": [
    "y_train.duration.value_counts()"
   ]
  },
  {
   "cell_type": "markdown",
   "metadata": {},
   "source": [
    "The dataset is very balanced, each of the 3 classes has a frequency close to 1/3."
   ]
  },
  {
   "cell_type": "markdown",
   "metadata": {},
   "source": [
    "# Model Creation\n",
    "\n",
    "Now is the time to create a model. In this tutorial we will build a Random Forest.\n",
    "\n",
    "To do this we use the variables ```[\"weight\",\"price\",\"nb_images\",\"image_length\",\"image_width\",\"category\"]```.\n",
    "\n",
    "To avoid overfitting and estimate the true performance of our model we will use the criterion of cross-validation **k-fold** method (cross-validation)."
   ]
  },
  {
   "cell_type": "code",
   "execution_count": null,
   "metadata": {},
   "outputs": [],
   "source": [
    "from sklearn.pipeline import Pipeline\n",
    "from sklearn.preprocessing import Imputer, LabelEncoder\n",
    "from sklearn.ensemble import RandomForestClassifier\n",
    "from sklearn.model_selection import cross_val_predict"
   ]
  },
  {
   "cell_type": "markdown",
   "metadata": {},
   "source": [
    "### Imputation of missing values by the value \"missing\""
   ]
  },
  {
   "cell_type": "code",
   "execution_count": null,
   "metadata": {},
   "outputs": [],
   "source": [
    "X_train.category.fillna('missing', inplace=True)\n",
    "X_test.category.fillna('missing', inplace=True)"
   ]
  },
  {
   "cell_type": "markdown",
   "metadata": {},
   "source": [
    "### Encoding categorical features\n",
    "\n",
    "Machine learning algorithms expect to have **numbers** as input, not strings. That's why we turn **categorical features** into numbers, using ```LabelEncoder ()```"
   ]
  },
  {
   "cell_type": "code",
   "execution_count": null,
   "metadata": {},
   "outputs": [],
   "source": [
    "X_train.category.unique()"
   ]
  },
  {
   "cell_type": "code",
   "execution_count": null,
   "metadata": {},
   "outputs": [],
   "source": [
    "le = LabelEncoder()\n",
    "X_train['category'] = le.fit_transform(X_train.category)\n",
    "X_test['category'] = le.transform(X_test.category)"
   ]
  },
  {
   "cell_type": "code",
   "execution_count": null,
   "metadata": {},
   "outputs": [],
   "source": [
    "from sklearn.model_selection import GridSearchCV\n",
    "\n",
    "features = ['weight', 'price', 'images_count',\n",
    "            'image_width', 'image_height', 'category']\n",
    "\n",
    "ppl = Pipeline([('imputer', Imputer(strategy='median')),\n",
    "                ('clf', RandomForestClassifier(n_estimators=1000, max_leaf_nodes=580, n_jobs=-1))])\n",
    "\n",
    "ppl.fit(X_train.loc[:, features], np.ravel(y_train))\n",
    "\n",
    "pred_train = ppl.predict_proba(X_train.loc[:, features])\n",
    "pred_cv = cross_val_predict(ppl,\n",
    "                            X_train.loc[:, features],\n",
    "                            np.ravel(y_train),\n",
    "                            method='predict_proba',\n",
    "                            cv=5,\n",
    "                            n_jobs=-1)"
   ]
  },
  {
   "cell_type": "markdown",
   "metadata": {},
   "source": [
    "# Calcul de l'erreur: logloss"
   ]
  },
  {
   "cell_type": "code",
   "execution_count": null,
   "metadata": {},
   "outputs": [],
   "source": [
    "from sklearn.metrics import log_loss "
   ]
  },
  {
   "cell_type": "code",
   "execution_count": null,
   "metadata": {},
   "outputs": [],
   "source": [
    "print('LogLoss on train sample:', log_loss(y_pred=pred_train, y_true=y_train))\n",
    "print('LogLoss on train sample (CV):', log_loss(y_pred=pred_cv, y_true=y_train))"
   ]
  },
  {
   "cell_type": "markdown",
   "metadata": {},
   "source": [
    "# Calcul des predictions"
   ]
  },
  {
   "cell_type": "code",
   "execution_count": null,
   "metadata": {},
   "outputs": [],
   "source": [
    "pred_test = ppl.predict_proba(X_test.loc[:, features])"
   ]
  },
  {
   "cell_type": "code",
   "execution_count": null,
   "metadata": {
    "scrolled": true
   },
   "outputs": [],
   "source": [
    "df_submission = pd.DataFrame(pred_test, index=X_test.index)"
   ]
  },
  {
   "cell_type": "code",
   "execution_count": null,
   "metadata": {},
   "outputs": [],
   "source": [
    "df_submission.head(3)"
   ]
  }
 ],
 "metadata": {
  "kernelspec": {
   "display_name": "Python 3",
   "language": "python",
   "name": "python3"
  },
  "language_info": {
   "codemirror_mode": {
    "name": "ipython",
    "version": 3
   },
   "file_extension": ".py",
   "mimetype": "text/x-python",
   "name": "python",
   "nbconvert_exporter": "python",
   "pygments_lexer": "ipython3",
   "version": "3.7.2"
  },
  "widgets": {
   "state": {},
   "version": "1.1.1"
  }
 },
 "nbformat": 4,
 "nbformat_minor": 2
}
