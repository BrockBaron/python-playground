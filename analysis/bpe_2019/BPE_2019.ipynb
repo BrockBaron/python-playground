{
 "cells": [
  {
   "cell_type": "markdown",
   "metadata": {},
   "source": [
    "Data source:\n",
    "- https://www.insee.fr/fr/statistiques/3568638?sommaire=3568656\n",
    "- https://public.opendatasoft.com/explore/dataset/buildingref-france-bpe-all-geolocated/export/?disjunctive.geocode_quality&disjunctive.equipment_name&disjunctive.category&disjunctive.reg_name&disjunctive.dep_name&disjunctive.epci_name&disjunctive.com_arm_name&disjunctive.com_arm_area_code&sort=year&refine.equipment_name=Supermarch%C3%A9&refine.equipment_name=Sup%C3%A9rette&refine.equipment_name=Hypermarch%C3%A9&location=12,48.84732,2.36361&basemap=jawg.streets"
   ]
  },
  {
   "cell_type": "code",
   "execution_count": null,
   "metadata": {},
   "outputs": [],
   "source": [
    "import pandas as pd\n",
    "pd.set_option('display.max_columns', None)\n",
    "pd.set_option('display.max_rows', None)\n",
    "\n",
    "import configparser\n",
    "from urllib.parse import urlencode\n",
    "import requests\n",
    "import re\n",
    "\n",
    "from shapely.geometry import Point, shape \n",
    "import geopandas as gpd\n",
    "import folium\n",
    "import branca.colormap as cm"
   ]
  },
  {
   "cell_type": "code",
   "execution_count": null,
   "metadata": {},
   "outputs": [],
   "source": [
    "bpe19_df = pd.read_csv('buildingref-france-bpe-all-geolocated.csv', sep=';')\n",
    "bpe19_df = bpe19_df[(bpe19_df['Code Officiel Département'].isin(['974', '971', '976', '972', '973']) == False) &\n",
    "                    (bpe19_df['Qualité du géocodage'] != 'Non Géolocalisée')]"
   ]
  },
  {
   "cell_type": "code",
   "execution_count": null,
   "metadata": {},
   "outputs": [],
   "source": [
    "bpe19_df['geo_point_list'] = bpe19_df['Geo Point'].apply(lambda x: x.split(','))\n",
    "bpe19_df['LAT'] = bpe19_df['geo_point_list'].apply(lambda x: x[0])\n",
    "bpe19_df['LAT'] = bpe19_df['LAT'].astype(float)\n",
    "bpe19_df['LNG'] = bpe19_df['geo_point_list'].apply(lambda x: x[1])\n",
    "bpe19_df['LNG'] = bpe19_df['LNG'].astype(float)\n"
   ]
  },
  {
   "cell_type": "code",
   "execution_count": null,
   "metadata": {},
   "outputs": [],
   "source": [
    "bpe_geometry = [Point(xy) for xy in zip(bpe19_df.LNG, bpe19_df.LAT)]\n",
    "crs = {'init': 'epsg:4326'}\n",
    "bpe19_gdf = gpd.GeoDataFrame(bpe19_df, crs=crs, geometry=bpe_geometry)"
   ]
  },
  {
   "cell_type": "code",
   "execution_count": null,
   "metadata": {
    "scrolled": true
   },
   "outputs": [],
   "source": [
    "bpe19_gdf.head()"
   ]
  },
  {
   "cell_type": "code",
   "execution_count": null,
   "metadata": {},
   "outputs": [],
   "source": [
    "dept_geo = gpd.read_file('../geo_datasets/fr_departements.geojson', driver='GeoJSON')\n",
    "commune_geo = gpd.read_file('../geo_datasets/fr_contours_communes_2019.geojson', driver='GeoJSON')"
   ]
  },
  {
   "cell_type": "code",
   "execution_count": null,
   "metadata": {},
   "outputs": [],
   "source": []
  },
  {
   "cell_type": "code",
   "execution_count": null,
   "metadata": {},
   "outputs": [],
   "source": []
  },
  {
   "cell_type": "code",
   "execution_count": null,
   "metadata": {},
   "outputs": [],
   "source": []
  },
  {
   "cell_type": "code",
   "execution_count": null,
   "metadata": {},
   "outputs": [],
   "source": []
  },
  {
   "cell_type": "code",
   "execution_count": null,
   "metadata": {},
   "outputs": [],
   "source": []
  }
 ],
 "metadata": {
  "kernelspec": {
   "display_name": "_venv",
   "language": "python",
   "name": "_venv"
  },
  "language_info": {
   "codemirror_mode": {
    "name": "ipython",
    "version": 3
   },
   "file_extension": ".py",
   "mimetype": "text/x-python",
   "name": "python",
   "nbconvert_exporter": "python",
   "pygments_lexer": "ipython3",
   "version": "3.9.0"
  }
 },
 "nbformat": 4,
 "nbformat_minor": 4
}
