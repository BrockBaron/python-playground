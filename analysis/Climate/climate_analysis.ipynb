{
 "cells": [
  {
   "cell_type": "markdown",
   "metadata": {},
   "source": [
    "Reference:\n",
    "\n",
    "- Data source:\n",
    "    <https://data.worldbank.org/topic/climate-change?end=2018&start=1973>"
   ]
  },
  {
   "cell_type": "code",
   "execution_count": 1,
   "metadata": {},
   "outputs": [],
   "source": [
    "import pandas as pd\n",
    "pd.set_option('display.max_columns', None)\n",
    "pd.set_option('display.max_rows', None)\n",
    "pd.set_option('display.float_format', lambda x: '%.1f' % x)"
   ]
  },
  {
   "cell_type": "code",
   "execution_count": 2,
   "metadata": {
    "scrolled": false
   },
   "outputs": [],
   "source": [
    "climate_1960_2018 = pd.read_csv('datasets/climate_1960_2018.csv')"
   ]
  },
  {
   "cell_type": "code",
   "execution_count": 3,
   "metadata": {},
   "outputs": [],
   "source": [
    "climate_1960_2018.drop(columns='Unnamed: 63', inplace=True)"
   ]
  },
  {
   "cell_type": "code",
   "execution_count": 4,
   "metadata": {
    "scrolled": true
   },
   "outputs": [
    {
     "data": {
      "text/plain": [
       "(20064, 63)"
      ]
     },
     "execution_count": 4,
     "metadata": {},
     "output_type": "execute_result"
    }
   ],
   "source": [
    "climate_1960_2018.shape"
   ]
  },
  {
   "cell_type": "code",
   "execution_count": 5,
   "metadata": {
    "scrolled": true
   },
   "outputs": [
    {
     "name": "stderr",
     "output_type": "stream",
     "text": [
      "/usr/local/lib/python3.7/site-packages/pandas/core/frame.py:3790: SettingWithCopyWarning: \n",
      "A value is trying to be set on a copy of a slice from a DataFrame\n",
      "\n",
      "See the caveats in the documentation: http://pandas.pydata.org/pandas-docs/stable/indexing.html#indexing-view-versus-copy\n",
      "  downcast=downcast, **kwargs)\n"
     ]
    }
   ],
   "source": [
    "indicators = ['Population, total',\n",
    "              'Population growth (annual %)',\n",
    "              # greenhouse gas\n",
    "              'CO2 emissions (kt)',\n",
    "              'CO2 emissions (metric tons per capita)',\n",
    "              'Methane emissions (kt of CO2 equivalent)',\n",
    "              'Nitrous oxide emissions (thousand metric tons of CO2 equivalent)',\n",
    "              'SF6 gas emissions (thousand metric tons of CO2 equivalent)',\n",
    "              'PFC gas emissions (thousand metric tons of CO2 equivalent)',\n",
    "              'HFC gas emissions (thousand metric tons of CO2 equivalent)',\n",
    "              'Total greenhouse gas emissions (kt of CO2 equivalent)',\n",
    "              \n",
    "              'Electric power consumption (kWh per capita)',\n",
    "              'Energy use (kg of oil equivalent per capita)',\n",
    "              'Forest area (% of land area)',\n",
    "              'Forest area (sq. km)',\n",
    "              'Agricultural land (% of land area)']\n",
    "\n",
    "climate_filtered_1960_2018 = climate_1960_2018[climate_1960_2018['Indicator Name'].isin(indicators)]\n",
    "climate_filtered_1960_2018.fillna(0, inplace=True)"
   ]
  },
  {
   "cell_type": "code",
   "execution_count": 6,
   "metadata": {},
   "outputs": [
    {
     "name": "stderr",
     "output_type": "stream",
     "text": [
      "/usr/local/lib/python3.7/site-packages/pandas/core/frame.py:3697: SettingWithCopyWarning: \n",
      "A value is trying to be set on a copy of a slice from a DataFrame\n",
      "\n",
      "See the caveats in the documentation: http://pandas.pydata.org/pandas-docs/stable/indexing.html#indexing-view-versus-copy\n",
      "  errors=errors)\n"
     ]
    }
   ],
   "source": [
    "climate_filtered_1960_2018.drop(columns=['Country Code', 'Indicator Code'], inplace=True)"
   ]
  },
  {
   "cell_type": "code",
   "execution_count": 7,
   "metadata": {},
   "outputs": [],
   "source": [
    "def df_4each_indicator(glb_df, indicator, world=True):\n",
    "    df = glb_df[glb_df['Indicator Name'] == indicator]\n",
    "    df.index = df['Country Name']\n",
    "    df.drop(columns=['Country Name', 'Indicator Name'], inplace=True)\n",
    "    df = df.T\n",
    "    if world:\n",
    "        df['World'] = df.sum(axis='columns')\n",
    "\n",
    "    return df"
   ]
  },
  {
   "cell_type": "code",
   "execution_count": 8,
   "metadata": {},
   "outputs": [],
   "source": [
    "pop_tot_1960_2018 = df_4each_indicator(climate_filtered_1960_2018,\n",
    "                                       'Population, total')\n",
    "pop_growthPct_1960_2018 = df_4each_indicator(climate_filtered_1960_2018,\n",
    "                                             'Population growth (annual %)',\n",
    "                                             world=False)\n",
    "\n",
    "co2_kt_1960_2018 = df_4each_indicator(climate_filtered_1960_2018,\n",
    "                                      'CO2 emissions (kt)')\n",
    "co2_tons_1960_2018 = df_4each_indicator(climate_filtered_1960_2018,\n",
    "                                        'CO2 emissions (metric tons per capita)')\n",
    "methane_1960_2018 = df_4each_indicator(climate_filtered_1960_2018,\n",
    "                                       'Methane emissions (kt of CO2 equivalent)')\n",
    "n2o_1960_2018 = df_4each_indicator(climate_filtered_1960_2018,\n",
    "                                        'Nitrous oxide emissions (thousand metric tons of CO2 equivalent)')\n",
    "sf6_1960_2018 = df_4each_indicator(climate_filtered_1960_2018,\n",
    "                                        'SF6 gas emissions (thousand metric tons of CO2 equivalent)')\n",
    "pfc_1960_2018 = df_4each_indicator(climate_filtered_1960_2018,\n",
    "                                        'PFC gas emissions (thousand metric tons of CO2 equivalent)')\n",
    "hfc_1960_2018 = df_4each_indicator(climate_filtered_1960_2018,\n",
    "                                        'HFC gas emissions (thousand metric tons of CO2 equivalent)')\n",
    "greenhouse_gas_1960_2018 = df_4each_indicator(climate_filtered_1960_2018,\n",
    "                                              'Total greenhouse gas emissions (kt of CO2 equivalent)')\n",
    "\n",
    "elec_power_1960_2018 = df_4each_indicator(climate_filtered_1960_2018,\n",
    "                                          'Electric power consumption (kWh per capita)')\n",
    "energy_use_1960_2018 = df_4each_indicator(climate_filtered_1960_2018,\n",
    "                                          'Energy use (kg of oil equivalent per capita)')\n",
    "forest_areaPct_1960_2018 = df_4each_indicator(climate_filtered_1960_2018,\n",
    "                                              'Forest area (% of land area)',\n",
    "                                              world=False)\n",
    "forest_areaSQ_1960_2018 = df_4each_indicator(climate_filtered_1960_2018,\n",
    "                                             'Forest area (sq. km)')\n",
    "agric_landPct_1960_2018 = df_4each_indicator(climate_filtered_1960_2018,\n",
    "                                             'Agricultural land (% of land area)',\n",
    "                                             world=False)"
   ]
  },
  {
   "cell_type": "markdown",
   "metadata": {},
   "source": [
    "TODO:\n",
    "- 1 line plot for pop_tot_1960_2018 & pop_growthPct_1960_2018\n",
    "- 1 line plot for greenhouse_gas_1960_2018, methane_1960_2018, co2_kt_1960_2018\n",
    "- 1 line plot for co2_tons_1960_2018, n2o_1960_2018, sf6_1960_2018, pfc_1960_2018, hfc_1960_2018\n",
    "- 1 line plot for elec_power_1960_2018\n",
    "- 1 line plot for energy_use_1960_2018\n",
    "- 1 line plot for forest_areaPct_1960_2018 & forest_areaSQ_1960_2018\n",
    "- 1 line plot for agric_landPct_1960_2018"
   ]
  },
  {
   "cell_type": "code",
   "execution_count": null,
   "metadata": {},
   "outputs": [],
   "source": []
  }
 ],
 "metadata": {
  "kernelspec": {
   "display_name": "Python 3",
   "language": "python",
   "name": "python3"
  },
  "language_info": {
   "codemirror_mode": {
    "name": "ipython",
    "version": 3
   },
   "file_extension": ".py",
   "mimetype": "text/x-python",
   "name": "python",
   "nbconvert_exporter": "python",
   "pygments_lexer": "ipython3",
   "version": "3.7.3"
  }
 },
 "nbformat": 4,
 "nbformat_minor": 2
}
