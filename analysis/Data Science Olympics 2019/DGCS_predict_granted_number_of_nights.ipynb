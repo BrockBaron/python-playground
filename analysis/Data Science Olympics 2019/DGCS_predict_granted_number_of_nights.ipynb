{
 "cells": [
  {
   "cell_type": "code",
   "execution_count": 1,
   "metadata": {},
   "outputs": [],
   "source": [
    "%matplotlib inline\n",
    "\n",
    "import numpy as np\n",
    "import pandas as pd\n",
    "import matplotlib.pyplot as plt\n",
    "\n",
    "from sklearn.linear_model import LogisticRegression\n",
    "from sklearn.metrics import log_loss\n",
    "from sklearn.model_selection import train_test_split\n",
    "\n",
    "import seaborn as sns\n",
    "\n",
    "from sklearn.model_selection import GridSearchCV, StratifiedKFold\n",
    "\n",
    "from sklearn.tree import DecisionTreeClassifier\n",
    "from sklearn.linear_model import LogisticRegression\n",
    "from sklearn.svm import SVC\n",
    "from sklearn.ensemble import AdaBoostClassifier, ExtraTreesClassifier, GradientBoostingClassifier, RandomForestClassifier, VotingClassifier"
   ]
  },
  {
   "cell_type": "code",
   "execution_count": 2,
   "metadata": {},
   "outputs": [],
   "source": [
    "# Define the competition scorer\n",
    "def competition_scorer(y_true, y_pred):\n",
    "    return log_loss(y_true, y_pred, sample_weight=10**y_true)"
   ]
  },
  {
   "cell_type": "markdown",
   "metadata": {},
   "source": [
    "# Information about the challenge\n",
    "\n",
    "In this challenge, the `requests` dataset contains information about the requests made by group of individuals (or family) to the french emergency housing public service. A sample of the `requests` dataset corresponds to a unique request.\n",
    "\n",
    "The goal is to predict the categorical variable `granted_number_of_nights` which represents the number of nights of emergency housing granted to a group. You can train your model on the `train_requests`, the predictions should be made for requests listed in the `test_requests` dataset.\n",
    "\n",
    "The evaluation metric is given by the `competition_scorer` defined above. It corresponds to a weighted log-loss with weights 1, 10, 100, or 1000 if the `granted_number_of_nights` takes the value 0, 1, 2, or 3 respectively. Thus beware that you will be penalized harder for classification mistakes made on the higher labels.\n",
    "\n",
    "Good luck!"
   ]
  },
  {
   "cell_type": "markdown",
   "metadata": {},
   "source": [
    "# Load the datasets"
   ]
  },
  {
   "cell_type": "code",
   "execution_count": 3,
   "metadata": {},
   "outputs": [
    {
     "name": "stderr",
     "output_type": "stream",
     "text": [
      "b'Skipping line 31303: expected 24 fields, saw 49\\nSkipping line 75954: expected 24 fields, saw 49\\n'\n"
     ]
    }
   ],
   "source": [
    "# Train sample\n",
    "requests = pd.read_csv('data/train_requests.csv', sep=',', low_memory=False, error_bad_lines=False)\n",
    "\n",
    "# Test sample\n",
    "requests_test = pd.read_csv('data/test_requests.csv', sep=',', low_memory=False, error_bad_lines=False)"
   ]
  },
  {
   "cell_type": "markdown",
   "metadata": {},
   "source": [
    "# Data description"
   ]
  },
  {
   "cell_type": "code",
   "execution_count": 4,
   "metadata": {},
   "outputs": [
    {
     "data": {
      "text/html": [
       "<div>\n",
       "<style scoped>\n",
       "    .dataframe tbody tr th:only-of-type {\n",
       "        vertical-align: middle;\n",
       "    }\n",
       "\n",
       "    .dataframe tbody tr th {\n",
       "        vertical-align: top;\n",
       "    }\n",
       "\n",
       "    .dataframe thead th {\n",
       "        text-align: right;\n",
       "    }\n",
       "</style>\n",
       "<table border=\"1\" class=\"dataframe\">\n",
       "  <thead>\n",
       "    <tr style=\"text-align: right;\">\n",
       "      <th></th>\n",
       "      <th>count</th>\n",
       "      <th>unique</th>\n",
       "      <th>top</th>\n",
       "      <th>freq</th>\n",
       "      <th>mean</th>\n",
       "      <th>std</th>\n",
       "      <th>min</th>\n",
       "      <th>25%</th>\n",
       "      <th>50%</th>\n",
       "      <th>75%</th>\n",
       "      <th>max</th>\n",
       "    </tr>\n",
       "  </thead>\n",
       "  <tbody>\n",
       "    <tr>\n",
       "      <th>request_id</th>\n",
       "      <td>297739</td>\n",
       "      <td>297739</td>\n",
       "      <td>7c9eaa3100d955c51412e1120071449b</td>\n",
       "      <td>1</td>\n",
       "      <td>NaN</td>\n",
       "      <td>NaN</td>\n",
       "      <td>NaN</td>\n",
       "      <td>NaN</td>\n",
       "      <td>NaN</td>\n",
       "      <td>NaN</td>\n",
       "      <td>NaN</td>\n",
       "    </tr>\n",
       "    <tr>\n",
       "      <th>animal_presence</th>\n",
       "      <td>297739</td>\n",
       "      <td>2</td>\n",
       "      <td>f</td>\n",
       "      <td>296908</td>\n",
       "      <td>NaN</td>\n",
       "      <td>NaN</td>\n",
       "      <td>NaN</td>\n",
       "      <td>NaN</td>\n",
       "      <td>NaN</td>\n",
       "      <td>NaN</td>\n",
       "      <td>NaN</td>\n",
       "    </tr>\n",
       "    <tr>\n",
       "      <th>answer_creation_date</th>\n",
       "      <td>297739</td>\n",
       "      <td>277562</td>\n",
       "      <td>2019-01-01 07:00:00</td>\n",
       "      <td>92</td>\n",
       "      <td>NaN</td>\n",
       "      <td>NaN</td>\n",
       "      <td>NaN</td>\n",
       "      <td>NaN</td>\n",
       "      <td>NaN</td>\n",
       "      <td>NaN</td>\n",
       "      <td>NaN</td>\n",
       "    </tr>\n",
       "    <tr>\n",
       "      <th>child_situation</th>\n",
       "      <td>297739</td>\n",
       "      <td>NaN</td>\n",
       "      <td>NaN</td>\n",
       "      <td>NaN</td>\n",
       "      <td>-0.321184</td>\n",
       "      <td>4.08921</td>\n",
       "      <td>-1</td>\n",
       "      <td>-1</td>\n",
       "      <td>-1</td>\n",
       "      <td>-1</td>\n",
       "      <td>70</td>\n",
       "    </tr>\n",
       "    <tr>\n",
       "      <th>child_to_come</th>\n",
       "      <td>115453</td>\n",
       "      <td>2</td>\n",
       "      <td>f</td>\n",
       "      <td>107529</td>\n",
       "      <td>NaN</td>\n",
       "      <td>NaN</td>\n",
       "      <td>NaN</td>\n",
       "      <td>NaN</td>\n",
       "      <td>NaN</td>\n",
       "      <td>NaN</td>\n",
       "      <td>NaN</td>\n",
       "    </tr>\n",
       "    <tr>\n",
       "      <th>district</th>\n",
       "      <td>297739</td>\n",
       "      <td>NaN</td>\n",
       "      <td>NaN</td>\n",
       "      <td>NaN</td>\n",
       "      <td>7045.22</td>\n",
       "      <td>46442.4</td>\n",
       "      <td>1</td>\n",
       "      <td>35</td>\n",
       "      <td>61</td>\n",
       "      <td>81</td>\n",
       "      <td>315842</td>\n",
       "    </tr>\n",
       "    <tr>\n",
       "      <th>granted_number_of_nights</th>\n",
       "      <td>297739</td>\n",
       "      <td>NaN</td>\n",
       "      <td>NaN</td>\n",
       "      <td>NaN</td>\n",
       "      <td>0.688526</td>\n",
       "      <td>0.769463</td>\n",
       "      <td>0</td>\n",
       "      <td>0</td>\n",
       "      <td>1</td>\n",
       "      <td>1</td>\n",
       "      <td>3</td>\n",
       "    </tr>\n",
       "    <tr>\n",
       "      <th>group_composition_id</th>\n",
       "      <td>297739</td>\n",
       "      <td>NaN</td>\n",
       "      <td>NaN</td>\n",
       "      <td>NaN</td>\n",
       "      <td>27.9082</td>\n",
       "      <td>28.8707</td>\n",
       "      <td>-1</td>\n",
       "      <td>10</td>\n",
       "      <td>10</td>\n",
       "      <td>40</td>\n",
       "      <td>120</td>\n",
       "    </tr>\n",
       "    <tr>\n",
       "      <th>group_composition_label</th>\n",
       "      <td>297738</td>\n",
       "      <td>12</td>\n",
       "      <td>man alone</td>\n",
       "      <td>163208</td>\n",
       "      <td>NaN</td>\n",
       "      <td>NaN</td>\n",
       "      <td>NaN</td>\n",
       "      <td>NaN</td>\n",
       "      <td>NaN</td>\n",
       "      <td>NaN</td>\n",
       "      <td>NaN</td>\n",
       "    </tr>\n",
       "    <tr>\n",
       "      <th>group_creation_date</th>\n",
       "      <td>297738</td>\n",
       "      <td>61766</td>\n",
       "      <td>2017-07-17 00:00:00.000</td>\n",
       "      <td>151</td>\n",
       "      <td>NaN</td>\n",
       "      <td>NaN</td>\n",
       "      <td>NaN</td>\n",
       "      <td>NaN</td>\n",
       "      <td>NaN</td>\n",
       "      <td>NaN</td>\n",
       "      <td>NaN</td>\n",
       "    </tr>\n",
       "    <tr>\n",
       "      <th>group_id</th>\n",
       "      <td>297739</td>\n",
       "      <td>63140</td>\n",
       "      <td>26ea416385179d96f07aaca883dfeb19</td>\n",
       "      <td>81</td>\n",
       "      <td>NaN</td>\n",
       "      <td>NaN</td>\n",
       "      <td>NaN</td>\n",
       "      <td>NaN</td>\n",
       "      <td>NaN</td>\n",
       "      <td>NaN</td>\n",
       "      <td>NaN</td>\n",
       "    </tr>\n",
       "    <tr>\n",
       "      <th>group_main_requester_id</th>\n",
       "      <td>297739</td>\n",
       "      <td>60950</td>\n",
       "      <td>19f587b018a6410be66712171d654a11</td>\n",
       "      <td>81</td>\n",
       "      <td>NaN</td>\n",
       "      <td>NaN</td>\n",
       "      <td>NaN</td>\n",
       "      <td>NaN</td>\n",
       "      <td>NaN</td>\n",
       "      <td>NaN</td>\n",
       "      <td>NaN</td>\n",
       "    </tr>\n",
       "    <tr>\n",
       "      <th>group_type</th>\n",
       "      <td>297738</td>\n",
       "      <td>2</td>\n",
       "      <td>individual</td>\n",
       "      <td>213882</td>\n",
       "      <td>NaN</td>\n",
       "      <td>NaN</td>\n",
       "      <td>NaN</td>\n",
       "      <td>NaN</td>\n",
       "      <td>NaN</td>\n",
       "      <td>NaN</td>\n",
       "      <td>NaN</td>\n",
       "    </tr>\n",
       "    <tr>\n",
       "      <th>housing_situation_id</th>\n",
       "      <td>297739</td>\n",
       "      <td>NaN</td>\n",
       "      <td>NaN</td>\n",
       "      <td>NaN</td>\n",
       "      <td>121.964</td>\n",
       "      <td>83.2314</td>\n",
       "      <td>10</td>\n",
       "      <td>10</td>\n",
       "      <td>170</td>\n",
       "      <td>200</td>\n",
       "      <td>220</td>\n",
       "    </tr>\n",
       "    <tr>\n",
       "      <th>housing_situation_label</th>\n",
       "      <td>276802</td>\n",
       "      <td>21</td>\n",
       "      <td>street</td>\n",
       "      <td>127315</td>\n",
       "      <td>NaN</td>\n",
       "      <td>NaN</td>\n",
       "      <td>NaN</td>\n",
       "      <td>NaN</td>\n",
       "      <td>NaN</td>\n",
       "      <td>NaN</td>\n",
       "      <td>NaN</td>\n",
       "    </tr>\n",
       "    <tr>\n",
       "      <th>long_term_housing_request</th>\n",
       "      <td>90926</td>\n",
       "      <td>2</td>\n",
       "      <td>f</td>\n",
       "      <td>75630</td>\n",
       "      <td>NaN</td>\n",
       "      <td>NaN</td>\n",
       "      <td>NaN</td>\n",
       "      <td>NaN</td>\n",
       "      <td>NaN</td>\n",
       "      <td>NaN</td>\n",
       "      <td>NaN</td>\n",
       "    </tr>\n",
       "    <tr>\n",
       "      <th>number_of_underage</th>\n",
       "      <td>297739</td>\n",
       "      <td>NaN</td>\n",
       "      <td>NaN</td>\n",
       "      <td>NaN</td>\n",
       "      <td>-0.575531</td>\n",
       "      <td>0.859217</td>\n",
       "      <td>-1</td>\n",
       "      <td>-1</td>\n",
       "      <td>-1</td>\n",
       "      <td>0</td>\n",
       "      <td>14</td>\n",
       "    </tr>\n",
       "    <tr>\n",
       "      <th>request_backoffice_creator_id</th>\n",
       "      <td>297739</td>\n",
       "      <td>1088</td>\n",
       "      <td>7c1f3fa2eb9a8779c8e83441317acb3d</td>\n",
       "      <td>3567</td>\n",
       "      <td>NaN</td>\n",
       "      <td>NaN</td>\n",
       "      <td>NaN</td>\n",
       "      <td>NaN</td>\n",
       "      <td>NaN</td>\n",
       "      <td>NaN</td>\n",
       "      <td>NaN</td>\n",
       "    </tr>\n",
       "    <tr>\n",
       "      <th>request_creation_date</th>\n",
       "      <td>297739</td>\n",
       "      <td>277725</td>\n",
       "      <td>2019-01-01 07:00:00</td>\n",
       "      <td>92</td>\n",
       "      <td>NaN</td>\n",
       "      <td>NaN</td>\n",
       "      <td>NaN</td>\n",
       "      <td>NaN</td>\n",
       "      <td>NaN</td>\n",
       "      <td>NaN</td>\n",
       "      <td>NaN</td>\n",
       "    </tr>\n",
       "    <tr>\n",
       "      <th>requester_type</th>\n",
       "      <td>297739</td>\n",
       "      <td>3</td>\n",
       "      <td>user</td>\n",
       "      <td>293409</td>\n",
       "      <td>NaN</td>\n",
       "      <td>NaN</td>\n",
       "      <td>NaN</td>\n",
       "      <td>NaN</td>\n",
       "      <td>NaN</td>\n",
       "      <td>NaN</td>\n",
       "      <td>NaN</td>\n",
       "    </tr>\n",
       "    <tr>\n",
       "      <th>social_situation_id</th>\n",
       "      <td>297739</td>\n",
       "      <td>63112</td>\n",
       "      <td>2b5e0d51245ed6c5d4b57edaef2b8392</td>\n",
       "      <td>266</td>\n",
       "      <td>NaN</td>\n",
       "      <td>NaN</td>\n",
       "      <td>NaN</td>\n",
       "      <td>NaN</td>\n",
       "      <td>NaN</td>\n",
       "      <td>NaN</td>\n",
       "      <td>NaN</td>\n",
       "    </tr>\n",
       "    <tr>\n",
       "      <th>town</th>\n",
       "      <td>98051</td>\n",
       "      <td>1168</td>\n",
       "      <td>Saint-Étienne</td>\n",
       "      <td>5734</td>\n",
       "      <td>NaN</td>\n",
       "      <td>NaN</td>\n",
       "      <td>NaN</td>\n",
       "      <td>NaN</td>\n",
       "      <td>NaN</td>\n",
       "      <td>NaN</td>\n",
       "      <td>NaN</td>\n",
       "    </tr>\n",
       "    <tr>\n",
       "      <th>victim_of_violence</th>\n",
       "      <td>297738</td>\n",
       "      <td>2</td>\n",
       "      <td>f</td>\n",
       "      <td>292382</td>\n",
       "      <td>NaN</td>\n",
       "      <td>NaN</td>\n",
       "      <td>NaN</td>\n",
       "      <td>NaN</td>\n",
       "      <td>NaN</td>\n",
       "      <td>NaN</td>\n",
       "      <td>NaN</td>\n",
       "    </tr>\n",
       "    <tr>\n",
       "      <th>victim_of_violence_type</th>\n",
       "      <td>4984</td>\n",
       "      <td>6</td>\n",
       "      <td>woman</td>\n",
       "      <td>2700</td>\n",
       "      <td>NaN</td>\n",
       "      <td>NaN</td>\n",
       "      <td>NaN</td>\n",
       "      <td>NaN</td>\n",
       "      <td>NaN</td>\n",
       "      <td>NaN</td>\n",
       "      <td>NaN</td>\n",
       "    </tr>\n",
       "  </tbody>\n",
       "</table>\n",
       "</div>"
      ],
      "text/plain": [
       "                                count  unique  \\\n",
       "request_id                     297739  297739   \n",
       "animal_presence                297739       2   \n",
       "answer_creation_date           297739  277562   \n",
       "child_situation                297739     NaN   \n",
       "child_to_come                  115453       2   \n",
       "district                       297739     NaN   \n",
       "granted_number_of_nights       297739     NaN   \n",
       "group_composition_id           297739     NaN   \n",
       "group_composition_label        297738      12   \n",
       "group_creation_date            297738   61766   \n",
       "group_id                       297739   63140   \n",
       "group_main_requester_id        297739   60950   \n",
       "group_type                     297738       2   \n",
       "housing_situation_id           297739     NaN   \n",
       "housing_situation_label        276802      21   \n",
       "long_term_housing_request       90926       2   \n",
       "number_of_underage             297739     NaN   \n",
       "request_backoffice_creator_id  297739    1088   \n",
       "request_creation_date          297739  277725   \n",
       "requester_type                 297739       3   \n",
       "social_situation_id            297739   63112   \n",
       "town                            98051    1168   \n",
       "victim_of_violence             297738       2   \n",
       "victim_of_violence_type          4984       6   \n",
       "\n",
       "                                                            top    freq  \\\n",
       "request_id                     7c9eaa3100d955c51412e1120071449b       1   \n",
       "animal_presence                                               f  296908   \n",
       "answer_creation_date                        2019-01-01 07:00:00      92   \n",
       "child_situation                                             NaN     NaN   \n",
       "child_to_come                                                 f  107529   \n",
       "district                                                    NaN     NaN   \n",
       "granted_number_of_nights                                    NaN     NaN   \n",
       "group_composition_id                                        NaN     NaN   \n",
       "group_composition_label                               man alone  163208   \n",
       "group_creation_date                     2017-07-17 00:00:00.000     151   \n",
       "group_id                       26ea416385179d96f07aaca883dfeb19      81   \n",
       "group_main_requester_id        19f587b018a6410be66712171d654a11      81   \n",
       "group_type                                           individual  213882   \n",
       "housing_situation_id                                        NaN     NaN   \n",
       "housing_situation_label                                  street  127315   \n",
       "long_term_housing_request                                     f   75630   \n",
       "number_of_underage                                          NaN     NaN   \n",
       "request_backoffice_creator_id  7c1f3fa2eb9a8779c8e83441317acb3d    3567   \n",
       "request_creation_date                       2019-01-01 07:00:00      92   \n",
       "requester_type                                             user  293409   \n",
       "social_situation_id            2b5e0d51245ed6c5d4b57edaef2b8392     266   \n",
       "town                                              Saint-Étienne    5734   \n",
       "victim_of_violence                                            f  292382   \n",
       "victim_of_violence_type                                   woman    2700   \n",
       "\n",
       "                                   mean       std  min  25%  50%  75%     max  \n",
       "request_id                          NaN       NaN  NaN  NaN  NaN  NaN     NaN  \n",
       "animal_presence                     NaN       NaN  NaN  NaN  NaN  NaN     NaN  \n",
       "answer_creation_date                NaN       NaN  NaN  NaN  NaN  NaN     NaN  \n",
       "child_situation               -0.321184   4.08921   -1   -1   -1   -1      70  \n",
       "child_to_come                       NaN       NaN  NaN  NaN  NaN  NaN     NaN  \n",
       "district                        7045.22   46442.4    1   35   61   81  315842  \n",
       "granted_number_of_nights       0.688526  0.769463    0    0    1    1       3  \n",
       "group_composition_id            27.9082   28.8707   -1   10   10   40     120  \n",
       "group_composition_label             NaN       NaN  NaN  NaN  NaN  NaN     NaN  \n",
       "group_creation_date                 NaN       NaN  NaN  NaN  NaN  NaN     NaN  \n",
       "group_id                            NaN       NaN  NaN  NaN  NaN  NaN     NaN  \n",
       "group_main_requester_id             NaN       NaN  NaN  NaN  NaN  NaN     NaN  \n",
       "group_type                          NaN       NaN  NaN  NaN  NaN  NaN     NaN  \n",
       "housing_situation_id            121.964   83.2314   10   10  170  200     220  \n",
       "housing_situation_label             NaN       NaN  NaN  NaN  NaN  NaN     NaN  \n",
       "long_term_housing_request           NaN       NaN  NaN  NaN  NaN  NaN     NaN  \n",
       "number_of_underage            -0.575531  0.859217   -1   -1   -1    0      14  \n",
       "request_backoffice_creator_id       NaN       NaN  NaN  NaN  NaN  NaN     NaN  \n",
       "request_creation_date               NaN       NaN  NaN  NaN  NaN  NaN     NaN  \n",
       "requester_type                      NaN       NaN  NaN  NaN  NaN  NaN     NaN  \n",
       "social_situation_id                 NaN       NaN  NaN  NaN  NaN  NaN     NaN  \n",
       "town                                NaN       NaN  NaN  NaN  NaN  NaN     NaN  \n",
       "victim_of_violence                  NaN       NaN  NaN  NaN  NaN  NaN     NaN  \n",
       "victim_of_violence_type             NaN       NaN  NaN  NaN  NaN  NaN     NaN  "
      ]
     },
     "execution_count": 4,
     "metadata": {},
     "output_type": "execute_result"
    }
   ],
   "source": [
    "requests.describe(include='all').T"
   ]
  },
  {
   "cell_type": "code",
   "execution_count": 5,
   "metadata": {
    "scrolled": false
   },
   "outputs": [
    {
     "name": "stdout",
     "output_type": "stream",
     "text": [
      "<class 'pandas.core.frame.DataFrame'>\n",
      "RangeIndex: 297739 entries, 0 to 297738\n",
      "Data columns (total 24 columns):\n",
      "request_id                       297739 non-null object\n",
      "animal_presence                  297739 non-null object\n",
      "answer_creation_date             297739 non-null object\n",
      "child_situation                  297739 non-null int64\n",
      "child_to_come                    115453 non-null object\n",
      "district                         297739 non-null int64\n",
      "granted_number_of_nights         297739 non-null int64\n",
      "group_composition_id             297739 non-null int64\n",
      "group_composition_label          297738 non-null object\n",
      "group_creation_date              297738 non-null object\n",
      "group_id                         297739 non-null object\n",
      "group_main_requester_id          297739 non-null object\n",
      "group_type                       297738 non-null object\n",
      "housing_situation_id             297739 non-null int64\n",
      "housing_situation_label          276802 non-null object\n",
      "long_term_housing_request        90926 non-null object\n",
      "number_of_underage               297739 non-null int64\n",
      "request_backoffice_creator_id    297739 non-null object\n",
      "request_creation_date            297739 non-null object\n",
      "requester_type                   297739 non-null object\n",
      "social_situation_id              297739 non-null object\n",
      "town                             98051 non-null object\n",
      "victim_of_violence               297738 non-null object\n",
      "victim_of_violence_type          4984 non-null object\n",
      "dtypes: int64(6), object(18)\n",
      "memory usage: 54.5+ MB\n"
     ]
    }
   ],
   "source": [
    "# Inspect basic metadata about the dataset\n",
    "requests.info()"
   ]
  },
  {
   "cell_type": "markdown",
   "metadata": {},
   "source": [
    "# Data cleaning"
   ]
  },
  {
   "cell_type": "code",
   "execution_count": 6,
   "metadata": {},
   "outputs": [],
   "source": [
    "requests['child_to_come'].fillna('f', inplace=True)\n",
    "requests['group_composition_label'].fillna('man alone', inplace=True)\n",
    "requests['group_type'].fillna('individual', inplace=True)\n",
    "requests['housing_situation_label'].fillna('street', inplace=True)\n",
    "requests['victim_of_violence'].fillna('f', inplace=True)"
   ]
  },
  {
   "cell_type": "code",
   "execution_count": 7,
   "metadata": {
    "scrolled": false
   },
   "outputs": [
    {
     "data": {
      "image/png": "[encoded data removed]",
      "text/plain": [
       "<Figure size 1296x1080 with 6 Axes>"
      ]
     },
     "metadata": {
      "needs_background": "light"
     },
     "output_type": "display_data"
    }
   ],
   "source": [
    "requests.hist(bins=40, figsize=(18, 15))\n",
    "plt.show()"
   ]
  },
  {
   "cell_type": "code",
   "execution_count": 8,
   "metadata": {},
   "outputs": [],
   "source": [
    "# selected columns for explanatory variable\n",
    "columns = ['child_situation',\n",
    "           'district',\n",
    "           'housing_situation_id',\n",
    "           'group_composition_id',\n",
    "           'number_of_underage']\n",
    "\n",
    "X = requests[columns]\n",
    "y = requests['granted_number_of_nights']"
   ]
  },
  {
   "cell_type": "code",
   "execution_count": 9,
   "metadata": {},
   "outputs": [],
   "source": [
    "# split between the train and the validation samples\n",
    "X_train, X_val, y_train, y_val = train_test_split(X, y, test_size=0.33, random_state=42)"
   ]
  },
  {
   "cell_type": "markdown",
   "metadata": {},
   "source": [
    "# 4-Train and evaluate a first model"
   ]
  },
  {
   "cell_type": "markdown",
   "metadata": {},
   "source": [
    "Logistic regression"
   ]
  },
  {
   "cell_type": "code",
   "execution_count": 10,
   "metadata": {},
   "outputs": [],
   "source": [
    "# use logistic regression as first model\n",
    "lr_clf = LogisticRegression(solver='liblinear', multi_class='auto', random_state=42)"
   ]
  },
  {
   "cell_type": "code",
   "execution_count": 11,
   "metadata": {},
   "outputs": [
    {
     "data": {
      "text/plain": [
       "LogisticRegression(C=1.0, class_weight=None, dual=False, fit_intercept=True,\n",
       "          intercept_scaling=1, max_iter=100, multi_class='auto',\n",
       "          n_jobs=None, penalty='l2', random_state=42, solver='liblinear',\n",
       "          tol=0.0001, verbose=0, warm_start=False)"
      ]
     },
     "execution_count": 11,
     "metadata": {},
     "output_type": "execute_result"
    }
   ],
   "source": [
    "# fit the model\n",
    "lr_clf.fit(X_train, y_train)"
   ]
  },
  {
   "cell_type": "code",
   "execution_count": 12,
   "metadata": {},
   "outputs": [
    {
     "data": {
      "text/plain": [
       "2.4660745542202394"
      ]
     },
     "execution_count": 12,
     "metadata": {},
     "output_type": "execute_result"
    }
   ],
   "source": [
    "# evaluate the model with the competition scorer (validation set)\n",
    "competition_scorer(y_val, lr_clf.predict_proba(X_val))"
   ]
  },
  {
   "cell_type": "markdown",
   "metadata": {
    "scrolled": true
   },
   "source": [
    "SVM"
   ]
  },
  {
   "cell_type": "code",
   "execution_count": null,
   "metadata": {},
   "outputs": [],
   "source": [
    "svc_clf = SVC(random_state=42)\n",
    "svc_clf.fit(X_train, y_train)"
   ]
  },
  {
   "cell_type": "code",
   "execution_count": null,
   "metadata": {},
   "outputs": [],
   "source": [
    "competition_scorer(y_val, svc_clf.predict_proba(X_val))"
   ]
  },
  {
   "cell_type": "markdown",
   "metadata": {},
   "source": [
    "Decision Trees"
   ]
  },
  {
   "cell_type": "code",
   "execution_count": 13,
   "metadata": {},
   "outputs": [
    {
     "data": {
      "text/plain": [
       "DecisionTreeClassifier(class_weight=None, criterion='gini', max_depth=None,\n",
       "            max_features=None, max_leaf_nodes=4, min_impurity_decrease=0.0,\n",
       "            min_impurity_split=None, min_samples_leaf=1,\n",
       "            min_samples_split=2, min_weight_fraction_leaf=0.0,\n",
       "            presort=False, random_state=42, splitter='best')"
      ]
     },
     "execution_count": 13,
     "metadata": {},
     "output_type": "execute_result"
    }
   ],
   "source": [
    "dt_clf = DecisionTreeClassifier(random_state=42, max_leaf_nodes=4)\n",
    "dt_clf.fit(X_train, y_train)"
   ]
  },
  {
   "cell_type": "code",
   "execution_count": 14,
   "metadata": {},
   "outputs": [
    {
     "data": {
      "text/plain": [
       "2.358821546241229"
      ]
     },
     "execution_count": 14,
     "metadata": {},
     "output_type": "execute_result"
    }
   ],
   "source": [
    "competition_scorer(y_val, dt_clf.predict_proba(X_val))\n",
    "# competition_scorer(y_val, dt_clf.best_estimator_.predict_proba(X_val))"
   ]
  },
  {
   "cell_type": "markdown",
   "metadata": {},
   "source": [
    "Random Forest"
   ]
  },
  {
   "cell_type": "code",
   "execution_count": 15,
   "metadata": {},
   "outputs": [
    {
     "name": "stderr",
     "output_type": "stream",
     "text": [
      "/usr/local/lib/python3.7/site-packages/sklearn/ensemble/forest.py:246: FutureWarning: The default value of n_estimators will change from 10 in version 0.20 to 100 in 0.22.\n",
      "  \"10 in version 0.20 to 100 in 0.22.\", FutureWarning)\n"
     ]
    },
    {
     "data": {
      "text/plain": [
       "RandomForestClassifier(bootstrap=True, class_weight=None, criterion='gini',\n",
       "            max_depth=None, max_features=4, max_leaf_nodes=None,\n",
       "            min_impurity_decrease=0.0, min_impurity_split=None,\n",
       "            min_samples_leaf=1, min_samples_split=2,\n",
       "            min_weight_fraction_leaf=0.0, n_estimators=10, n_jobs=None,\n",
       "            oob_score=False, random_state=42, verbose=0, warm_start=False)"
      ]
     },
     "execution_count": 15,
     "metadata": {},
     "output_type": "execute_result"
    }
   ],
   "source": [
    "# rdmFrst_params = {'max_features': [4],\n",
    "#                   'min_samples_split': [2, 3, 10],\n",
    "#                   'min_samples_leaf': [1, 3, 10],\n",
    "#                   'bootstrap': [False],\n",
    "#                   'n_estimators':[100, 300],\n",
    "#                   'criterion': ['gini']}\n",
    "# rdmFrst_gridsearch = GridSearchCV(RandomForestClassifier(random_state=42),\n",
    "#                                   rdmFrst_params,\n",
    "#                                   cv=StratifiedKFold(n_splits=10),\n",
    "#                                   scoring='accuracy',\n",
    "#                                   n_jobs=-1)\n",
    "rdmFrst_clf = RandomForestClassifier(random_state=42, max_features=4)\n",
    "rdmFrst_clf.fit(X_train, y_train)"
   ]
  },
  {
   "cell_type": "code",
   "execution_count": 16,
   "metadata": {},
   "outputs": [
    {
     "data": {
      "text/plain": [
       "3.5884667274060553"
      ]
     },
     "execution_count": 16,
     "metadata": {},
     "output_type": "execute_result"
    }
   ],
   "source": [
    "competition_scorer(y_val, rdmFrst_clf.predict_proba(X_val))"
   ]
  },
  {
   "cell_type": "markdown",
   "metadata": {},
   "source": [
    "Adaboost"
   ]
  },
  {
   "cell_type": "code",
   "execution_count": 17,
   "metadata": {},
   "outputs": [
    {
     "data": {
      "text/plain": [
       "AdaBoostClassifier(algorithm='SAMME.R',\n",
       "          base_estimator=DecisionTreeClassifier(class_weight=None, criterion='gini', max_depth=None,\n",
       "            max_features=None, max_leaf_nodes=4, min_impurity_decrease=0.0,\n",
       "            min_impurity_split=None, min_samples_leaf=1,\n",
       "            min_samples_split=2, min_weight_fraction_leaf=0.0,\n",
       "            presort=False, random_state=42, splitter='best'),\n",
       "          learning_rate=1.0, n_estimators=50, random_state=None)"
      ]
     },
     "execution_count": 17,
     "metadata": {},
     "output_type": "execute_result"
    }
   ],
   "source": [
    "# Inspired by https://www.kaggle.com/yassineghouzam/titanic-top-4-with-ensemble-modeling\n",
    "# ada_params = {\n",
    "#     'base_estimator__criterion': ['gini', 'entropy'],\n",
    "#               'base_estimator__splitter': ['best', 'random'],\n",
    "#               'algorithm': ['SAMME', 'SAMME.R'],\n",
    "#               'n_estimators': [1, 2],\n",
    "#               'learning_rate': [0.01, 0.1]}\n",
    "\n",
    "# ada_gridsearch = GridSearchCV(AdaBoostClassifier(DecisionTreeClassifier(random_state=42)),\n",
    "#                               param_grid = ada_params,\n",
    "#                               cv=StratifiedKFold(n_splits=10),\n",
    "#                               scoring='accuracy',\n",
    "#                               n_jobs=-1)\n",
    "\n",
    "ada_clf = AdaBoostClassifier(DecisionTreeClassifier(random_state=42, max_leaf_nodes=4))\n",
    "ada_clf.fit(X_train, y_train)"
   ]
  },
  {
   "cell_type": "code",
   "execution_count": 18,
   "metadata": {},
   "outputs": [
    {
     "data": {
      "text/plain": [
       "1.360324494755825"
      ]
     },
     "execution_count": 18,
     "metadata": {},
     "output_type": "execute_result"
    }
   ],
   "source": [
    "competition_scorer(y_val, ada_clf.predict_proba(X_val))"
   ]
  },
  {
   "cell_type": "markdown",
   "metadata": {},
   "source": [
    "Extra Trees"
   ]
  },
  {
   "cell_type": "code",
   "execution_count": 19,
   "metadata": {},
   "outputs": [
    {
     "name": "stderr",
     "output_type": "stream",
     "text": [
      "/usr/local/lib/python3.7/site-packages/sklearn/ensemble/forest.py:246: FutureWarning: The default value of n_estimators will change from 10 in version 0.20 to 100 in 0.22.\n",
      "  \"10 in version 0.20 to 100 in 0.22.\", FutureWarning)\n"
     ]
    },
    {
     "data": {
      "text/plain": [
       "ExtraTreesClassifier(bootstrap=False, class_weight=None, criterion='gini',\n",
       "           max_depth=None, max_features=4, max_leaf_nodes=None,\n",
       "           min_impurity_decrease=0.0, min_impurity_split=None,\n",
       "           min_samples_leaf=1, min_samples_split=2,\n",
       "           min_weight_fraction_leaf=0.0, n_estimators=10, n_jobs=None,\n",
       "           oob_score=False, random_state=42, verbose=0, warm_start=False)"
      ]
     },
     "execution_count": 19,
     "metadata": {},
     "output_type": "execute_result"
    }
   ],
   "source": [
    "# extraTree_params = {'max_depth': [None],\n",
    "#                     'max_features': [1, 3, 10],\n",
    "#                     'min_samples_split': [2, 3, 10],\n",
    "#                     'min_samples_leaf': [1, 3, 10],\n",
    "#                     'bootstrap': [False],\n",
    "#                     'n_estimators': [100, 300],\n",
    "#                     'criterion': ['gini']}\n",
    "# extraTree_gridsearch = GridSearchCV(ExtraTreesClassifier(random_state=42),\n",
    "#                                     extraTree_params,\n",
    "#                                     cv=StratifiedKFold(n_splits=10),\n",
    "#                                     scoring='accuracy',\n",
    "#                                     n_jobs=-1)\n",
    "extraTree_clf = ExtraTreesClassifier(random_state=42, max_features=4)\n",
    "extraTree_clf.fit(X_train, y_train)"
   ]
  },
  {
   "cell_type": "code",
   "execution_count": 20,
   "metadata": {},
   "outputs": [
    {
     "data": {
      "text/plain": [
       "3.97846355315819"
      ]
     },
     "execution_count": 20,
     "metadata": {},
     "output_type": "execute_result"
    }
   ],
   "source": [
    "competition_scorer(y_val, extraTree_clf.predict_proba(X_val))"
   ]
  },
  {
   "cell_type": "markdown",
   "metadata": {},
   "source": [
    "Gradient Boosting"
   ]
  },
  {
   "cell_type": "code",
   "execution_count": 21,
   "metadata": {},
   "outputs": [
    {
     "data": {
      "text/plain": [
       "GradientBoostingClassifier(criterion='friedman_mse', init=None,\n",
       "              learning_rate=0.1, loss='deviance', max_depth=3,\n",
       "              max_features=4, max_leaf_nodes=None,\n",
       "              min_impurity_decrease=0.0, min_impurity_split=None,\n",
       "              min_samples_leaf=1, min_samples_split=2,\n",
       "              min_weight_fraction_leaf=0.0, n_estimators=100,\n",
       "              n_iter_no_change=None, presort='auto', random_state=42,\n",
       "              subsample=1.0, tol=0.0001, validation_fraction=0.1,\n",
       "              verbose=0, warm_start=False)"
      ]
     },
     "execution_count": 21,
     "metadata": {},
     "output_type": "execute_result"
    }
   ],
   "source": [
    "# gbrt_params = {'n_estimators': [100, 200, 300],\n",
    "#                'loss': ['deviance'],\n",
    "#                'learning_rate': [0.01, 0.05, 0.1],\n",
    "#                'max_depth': [5],\n",
    "#                'min_samples_leaf': [100, 150],\n",
    "#                'max_features': [0.1, 0.3]}\n",
    "# gbrt_gridsearch = GridSearchCV(GradientBoostingClassifier(random_state=42),\n",
    "#                                gbrt_params,\n",
    "#                                cv=StratifiedKFold(n_splits=10),\n",
    "#                                scoring='accuracy',\n",
    "#                                n_jobs=-1)\n",
    "gbrt_clf = GradientBoostingClassifier(random_state=42, max_features=4)\n",
    "gbrt_clf.fit(X_train, y_train)"
   ]
  },
  {
   "cell_type": "code",
   "execution_count": 22,
   "metadata": {},
   "outputs": [
    {
     "data": {
      "text/plain": [
       "1.8429466722394838"
      ]
     },
     "execution_count": 22,
     "metadata": {},
     "output_type": "execute_result"
    }
   ],
   "source": [
    "competition_scorer(y_val, gbrt_clf.predict_proba(X_val))"
   ]
  },
  {
   "cell_type": "markdown",
   "metadata": {},
   "source": [
    "Voting classifier"
   ]
  },
  {
   "cell_type": "code",
   "execution_count": 23,
   "metadata": {},
   "outputs": [
    {
     "data": {
      "text/plain": [
       "VotingClassifier(estimators=[('lr', LogisticRegression(C=1.0, class_weight=None, dual=False, fit_intercept=True,\n",
       "          intercept_scaling=1, max_iter=100, multi_class='auto',\n",
       "          n_jobs=None, penalty='l2', random_state=42, solver='liblinear',\n",
       "          tol=0.0001, verbose=0, warm_start=False)), ('dt', Decis...    subsample=1.0, tol=0.0001, validation_fraction=0.1,\n",
       "              verbose=0, warm_start=False))],\n",
       "         flatten_transform=None, n_jobs=None, voting='soft', weights=None)"
      ]
     },
     "execution_count": 23,
     "metadata": {},
     "output_type": "execute_result"
    }
   ],
   "source": [
    "voting_soft_clf = VotingClassifier(\n",
    "    estimators=[\n",
    "                ('lr', lr_clf),\n",
    "#                 ('svm', svr_gridsearch),\n",
    "                ('dt', dt_clf),\n",
    "                ('rf', rdmFrst_clf),\n",
    "                ('ada', ada_clf),\n",
    "                ('extraTree', extraTree_clf),\n",
    "                ('gbrt', gbrt_clf)\n",
    "    ],\n",
    "    voting='soft'\n",
    ")\n",
    "\n",
    "voting_soft_clf.fit(X_train, y_train)"
   ]
  },
  {
   "cell_type": "code",
   "execution_count": 24,
   "metadata": {},
   "outputs": [
    {
     "data": {
      "text/plain": [
       "1.5428309332469614"
      ]
     },
     "execution_count": 24,
     "metadata": {},
     "output_type": "execute_result"
    }
   ],
   "source": [
    "competition_scorer(y_val, voting_soft_clf.predict_proba(X_val))"
   ]
  },
  {
   "cell_type": "markdown",
   "metadata": {},
   "source": [
    "# 5- Compute predictions on the test set "
   ]
  },
  {
   "cell_type": "code",
   "execution_count": null,
   "metadata": {},
   "outputs": [],
   "source": [
    "# use the model to predict on the test set\n",
    "X_test = requests_test[columns]\n",
    "y_pred = ada_clf.predict_proba(X_test)"
   ]
  },
  {
   "cell_type": "code",
   "execution_count": null,
   "metadata": {},
   "outputs": [],
   "source": [
    "# overview of prediction probabilities for first four rows\n",
    "y_pred[:4]"
   ]
  },
  {
   "cell_type": "code",
   "execution_count": null,
   "metadata": {},
   "outputs": [],
   "source": [
    "predictions = pd.concat([requests_test['request_id'], pd.DataFrame(y_pred)], axis=1)"
   ]
  },
  {
   "cell_type": "markdown",
   "metadata": {},
   "source": [
    "# 6- Submit your predictions to the QScore platform"
   ]
  },
  {
   "cell_type": "code",
   "execution_count": null,
   "metadata": {},
   "outputs": [],
   "source": [
    "import io, math, requests\n",
    "\n",
    "# Get your token from qscore:\n",
    "# 1. Go to https://qscore.datascience-olympics.com/\n",
    "# 2. Chose the competition Data Science Olympics 2019\n",
    "# 3. In the left menu click 'Submissions'\n",
    "# 4. Your token is in the 'Submit from your Python Notebook' tab\n",
    "\n",
    "def submit_prediction(df, sep=',', comment='', compression='gzip', **kwargs):\n",
    "    TOKEN='f621f6e9426b924e64f819e48aa2782e2426bab78a7b7dca8b1224dff5be734a6e18167266adf7e04f51dfbfa22db6c3633c0362c3d7c769ae210a8fa1a97670'\n",
    "    URL='https://qscore.datascience-olympics.com/api/submissions'\n",
    "    df.to_csv('temporary.dat', sep=sep, compression=compression, **kwargs)\n",
    "    r = requests.post(URL, headers={'Authorization': 'Bearer {}'.format(TOKEN)},files={'datafile': open('temporary.dat', 'rb')},data={'comment':comment, 'compression': compression})\n",
    "    if r.status_code == 429:\n",
    "        raise Exception('Submissions are too close. Next submission is only allowed in {} seconds.'.format(int(math.ceil(int(r.headers['x-rate-limit-remaining']) / 1000.0))))\n",
    "    if r.status_code != 200:\n",
    "        raise Exception(r.text)"
   ]
  },
  {
   "cell_type": "code",
   "execution_count": null,
   "metadata": {},
   "outputs": [],
   "source": [
    "submit_prediction(predictions, sep=',', index=False, comment='my submission')"
   ]
  },
  {
   "cell_type": "code",
   "execution_count": null,
   "metadata": {},
   "outputs": [],
   "source": []
  }
 ],
 "metadata": {
  "kernelspec": {
   "display_name": "Python 3",
   "language": "python",
   "name": "python3"
  },
  "language_info": {
   "codemirror_mode": {
    "name": "ipython",
    "version": 3
   },
   "file_extension": ".py",
   "mimetype": "text/x-python",
   "name": "python",
   "nbconvert_exporter": "python",
   "pygments_lexer": "ipython3",
   "version": "3.7.2"
  }
 },
 "nbformat": 4,
 "nbformat_minor": 2
}
