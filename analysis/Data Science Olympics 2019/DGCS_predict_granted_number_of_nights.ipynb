{
 "cells": [
  {
   "cell_type": "code",
   "execution_count": null,
   "metadata": {},
   "outputs": [],
   "source": [
    "%matplotlib inline\n",
    "\n",
    "import numpy as np\n",
    "import pandas as pd\n",
    "import matplotlib.pyplot as plt\n",
    "\n",
    "from sklearn.linear_model import LogisticRegression\n",
    "from sklearn.metrics import log_loss\n",
    "from sklearn.model_selection import train_test_split\n",
    "\n",
    "import seaborn as sns\n",
    "\n",
    "from sklearn.model_selection import GridSearchCV, StratifiedKFold\n",
    "\n",
    "from sklearn.tree import DecisionTreeClassifier\n",
    "from sklearn.linear_model import LogisticRegression\n",
    "from sklearn.svm import SVC\n",
    "from sklearn.ensemble import AdaBoostClassifier, ExtraTreesClassifier, GradientBoostingClassifier, RandomForestClassifier, VotingClassifier"
   ]
  },
  {
   "cell_type": "code",
   "execution_count": null,
   "metadata": {},
   "outputs": [],
   "source": [
    "# Define the competition scorer\n",
    "def competition_scorer(y_true, y_pred):\n",
    "    return log_loss(y_true, y_pred, sample_weight=10**y_true)"
   ]
  },
  {
   "cell_type": "markdown",
   "metadata": {},
   "source": [
    "# Information about the challenge\n",
    "\n",
    "In this challenge, the `requests` dataset contains information about the requests made by group of individuals (or family) to the french emergency housing public service. A sample of the `requests` dataset corresponds to a unique request.\n",
    "\n",
    "The goal is to predict the categorical variable `granted_number_of_nights` which represents the number of nights of emergency housing granted to a group. You can train your model on the `train_requests`, the predictions should be made for requests listed in the `test_requests` dataset.\n",
    "\n",
    "The evaluation metric is given by the `competition_scorer` defined above. It corresponds to a weighted log-loss with weights 1, 10, 100, or 1000 if the `granted_number_of_nights` takes the value 0, 1, 2, or 3 respectively. Thus beware that you will be penalized harder for classification mistakes made on the higher labels.\n",
    "\n",
    "Good luck!"
   ]
  },
  {
   "cell_type": "markdown",
   "metadata": {},
   "source": [
    "# Load the datasets"
   ]
  },
  {
   "cell_type": "code",
   "execution_count": null,
   "metadata": {},
   "outputs": [],
   "source": [
    "# Train sample\n",
    "requests = pd.read_csv('data/train_requests.csv', sep=',', low_memory=False, error_bad_lines=False)\n",
    "\n",
    "# Test sample\n",
    "requests_test = pd.read_csv('data/test_requests.csv', sep=',', low_memory=False, error_bad_lines=False)"
   ]
  },
  {
   "cell_type": "markdown",
   "metadata": {},
   "source": [
    "# Data description"
   ]
  },
  {
   "cell_type": "code",
   "execution_count": null,
   "metadata": {},
   "outputs": [],
   "source": [
    "requests.describe(include='all').T"
   ]
  },
  {
   "cell_type": "code",
   "execution_count": null,
   "metadata": {
    "scrolled": false
   },
   "outputs": [],
   "source": [
    "# Inspect basic metadata about the dataset\n",
    "requests.info()"
   ]
  },
  {
   "cell_type": "markdown",
   "metadata": {},
   "source": [
    "# Data cleaning"
   ]
  },
  {
   "cell_type": "code",
   "execution_count": null,
   "metadata": {},
   "outputs": [],
   "source": [
    "requests['child_to_come'].fillna('f', inplace=True)\n",
    "requests['group_composition_label'].fillna('man alone', inplace=True)\n",
    "requests['group_type'].fillna('individual', inplace=True)\n",
    "requests['housing_situation_label'].fillna('street', inplace=True)\n",
    "requests['victim_of_violence'].fillna('f', inplace=True)"
   ]
  },
  {
   "cell_type": "code",
   "execution_count": null,
   "metadata": {
    "scrolled": false
   },
   "outputs": [],
   "source": [
    "requests.hist(bins=40, figsize=(18, 15))\n",
    "plt.show()"
   ]
  },
  {
   "cell_type": "markdown",
   "metadata": {},
   "source": [
    "# Select a subset"
   ]
  },
  {
   "cell_type": "code",
   "execution_count": null,
   "metadata": {},
   "outputs": [],
   "source": [
    "n0 = requests[requests['granted_number_of_nights']==0]\n",
    "n1 = requests[requests['granted_number_of_nights']==1]\n",
    "n2 = requests[requests['granted_number_of_nights']==2]\n",
    "n3 = requests[requests['granted_number_of_nights']==3]\n",
    "\n",
    "len_n0 = len(n0)\n",
    "len_n1 = len(n1)\n",
    "len_n2 = len(n2)\n",
    "len_n3 = len(n3)\n",
    "\n",
    "sub_n0 = n0.loc[n0.index[np.random.permutation(len_n0//10)], :]\n",
    "sub_n1 = n1.loc[n1.index[np.random.permutation(len_n1//10)], :]\n",
    "sub_n2 = n2.loc[n2.index[np.random.permutation(len_n2//10)], :]\n",
    "sub_n3 = n3.loc[n3.index[np.random.permutation(len_n3//10)], :]\n",
    "\n",
    "sub_requests = sub_n0.append(sub_n1)\n",
    "sub_requests = sub_requests.append(sub_n2)\n",
    "sub_requests = sub_requests.append(sub_n3)"
   ]
  },
  {
   "cell_type": "code",
   "execution_count": null,
   "metadata": {},
   "outputs": [],
   "source": [
    "# selected columns for explanatory variable\n",
    "columns = ['child_situation',\n",
    "           'district',\n",
    "           'housing_situation_id',\n",
    "           'group_composition_id',\n",
    "           'number_of_underage']\n",
    "\n",
    "# X = requests[columns]\n",
    "# y = requests['granted_number_of_nights']\n",
    "X = sub_requests[columns]\n",
    "y = sub_requests['granted_number_of_nights']"
   ]
  },
  {
   "cell_type": "code",
   "execution_count": null,
   "metadata": {},
   "outputs": [],
   "source": [
    "# split between the train and the validation samples\n",
    "X_train, X_val, y_train, y_val = train_test_split(X, y, test_size=0.33, random_state=42)"
   ]
  },
  {
   "cell_type": "markdown",
   "metadata": {},
   "source": [
    "# 4-Train and evaluate a first model"
   ]
  },
  {
   "cell_type": "markdown",
   "metadata": {},
   "source": [
    "Logistic regression"
   ]
  },
  {
   "cell_type": "code",
   "execution_count": null,
   "metadata": {},
   "outputs": [],
   "source": [
    "# use logistic regression as first model\n",
    "lr_clf = LogisticRegression(solver='liblinear', multi_class='auto', random_state=42)"
   ]
  },
  {
   "cell_type": "code",
   "execution_count": null,
   "metadata": {},
   "outputs": [],
   "source": [
    "# fit the model\n",
    "lr_clf.fit(X_train, y_train)"
   ]
  },
  {
   "cell_type": "code",
   "execution_count": null,
   "metadata": {},
   "outputs": [],
   "source": [
    "# evaluate the model with the competition scorer (validation set)\n",
    "competition_scorer(y_val, lr_clf.predict_proba(X_val))"
   ]
  },
  {
   "cell_type": "markdown",
   "metadata": {
    "scrolled": true
   },
   "source": [
    "SVM"
   ]
  },
  {
   "cell_type": "code",
   "execution_count": null,
   "metadata": {},
   "outputs": [],
   "source": [
    "svr_params = {'kernel': ['rbf'],\n",
    "              'gamma': ['auto'],\n",
    "              'C': [1, 10, 50, 100],\n",
    "              'probability':[True]}\n",
    "svc_clf = GridSearchCV(SVC(random_state=42),\n",
    "                              svr_params,\n",
    "                              cv=StratifiedKFold(n_splits=10),\n",
    "                              scoring='accuracy',\n",
    "                              n_jobs=-1)\n",
    "# svc_clf = SVC(random_state=42)\n",
    "svc_clf.fit(X_train, y_train)"
   ]
  },
  {
   "cell_type": "code",
   "execution_count": null,
   "metadata": {
    "scrolled": true
   },
   "outputs": [],
   "source": [
    "# competition_scorer(y_val, svc_clf.predict_proba(X_val))\n",
    "competition_scorer(y_val, svc_clf.best_estimator_.predict_proba(X_val))"
   ]
  },
  {
   "cell_type": "markdown",
   "metadata": {},
   "source": [
    "Decision Trees"
   ]
  },
  {
   "cell_type": "code",
   "execution_count": null,
   "metadata": {},
   "outputs": [],
   "source": [
    "decisionTree_params = {'max_features': [1, 3, 4],\n",
    "                       'min_samples_split': [2, 3, 7, 10],\n",
    "                       'min_samples_leaf': [1, 3, 7, 10]}\n",
    "dt_clf = GridSearchCV(DecisionTreeClassifier(random_state=42),\n",
    "                                       decisionTree_params,\n",
    "                                       cv=StratifiedKFold(n_splits=10),\n",
    "                                       scoring='accuracy',\n",
    "                                       n_jobs=-1)\n",
    "# dt_clf = DecisionTreeClassifier(random_state=42)\n",
    "dt_clf.fit(X_train, y_train)"
   ]
  },
  {
   "cell_type": "code",
   "execution_count": null,
   "metadata": {},
   "outputs": [],
   "source": [
    "dt_clf.best_estimator_"
   ]
  },
  {
   "cell_type": "code",
   "execution_count": null,
   "metadata": {},
   "outputs": [],
   "source": [
    "# competition_scorer(y_val, dt_clf.predict_proba(X_val))\n",
    "competition_scorer(y_val, dt_clf.best_estimator_.predict_proba(X_val))"
   ]
  },
  {
   "cell_type": "markdown",
   "metadata": {},
   "source": [
    "Random Forest"
   ]
  },
  {
   "cell_type": "code",
   "execution_count": null,
   "metadata": {},
   "outputs": [],
   "source": [
    "rdmFrst_params = {'max_features': [2, 4],\n",
    "                  'min_samples_split': [2, 7, 10],\n",
    "                  'min_samples_leaf': [2, 8, 10],\n",
    "                  'bootstrap': [False],\n",
    "                  'n_estimators':[220, 230],\n",
    "                  'criterion': ['gini']}\n",
    "rdmFrst_clf = GridSearchCV(RandomForestClassifier(random_state=42),\n",
    "                                  rdmFrst_params,\n",
    "                                  cv=StratifiedKFold(n_splits=10),\n",
    "                                  scoring='accuracy',\n",
    "                                  n_jobs=-1)\n",
    "# rdmFrst_clf = RandomForestClassifier(random_state=42)\n",
    "rdmFrst_clf.fit(X_train, y_train)"
   ]
  },
  {
   "cell_type": "code",
   "execution_count": null,
   "metadata": {},
   "outputs": [],
   "source": [
    "rdmFrst_clf.best_estimator_"
   ]
  },
  {
   "cell_type": "code",
   "execution_count": null,
   "metadata": {
    "scrolled": true
   },
   "outputs": [],
   "source": [
    "# competition_scorer(y_val, rdmFrst_clf.predict_proba(X_val))\n",
    "competition_scorer(y_val, rdmFrst_clf.best_estimator_.predict_proba(X_val))"
   ]
  },
  {
   "cell_type": "markdown",
   "metadata": {},
   "source": [
    "Adaboost"
   ]
  },
  {
   "cell_type": "code",
   "execution_count": null,
   "metadata": {},
   "outputs": [],
   "source": [
    "# Inspired by https://www.kaggle.com/yassineghouzam/titanic-top-4-with-ensemble-modeling\n",
    "ada_params = {\n",
    "    'base_estimator__criterion': ['gini', 'entropy'],\n",
    "              'base_estimator__splitter': ['best', 'random'],\n",
    "              'algorithm': ['SAMME', 'SAMME.R'],\n",
    "              'n_estimators': [50, 55],\n",
    "              'learning_rate': [0.05, 0.1]}\n",
    "\n",
    "ada_clf = GridSearchCV(AdaBoostClassifier(DecisionTreeClassifier(random_state=42)),\n",
    "                              param_grid = ada_params,\n",
    "                              cv=StratifiedKFold(n_splits=10),\n",
    "                              scoring='accuracy',\n",
    "                              n_jobs=-1)\n",
    "\n",
    "# ada_clf = AdaBoostClassifier(DecisionTreeClassifier(random_state=42))\n",
    "ada_clf.fit(X_train, y_train)"
   ]
  },
  {
   "cell_type": "code",
   "execution_count": null,
   "metadata": {},
   "outputs": [],
   "source": [
    "ada_clf.best_estimator_"
   ]
  },
  {
   "cell_type": "code",
   "execution_count": null,
   "metadata": {},
   "outputs": [],
   "source": [
    "# competition_scorer(y_val, ada_clf.predict_proba(X_val))\n",
    "competition_scorer(y_val, ada_clf.best_estimator_.predict_proba(X_val))"
   ]
  },
  {
   "cell_type": "markdown",
   "metadata": {},
   "source": [
    "Extra Trees"
   ]
  },
  {
   "cell_type": "code",
   "execution_count": null,
   "metadata": {},
   "outputs": [],
   "source": [
    "extraTree_params = {'max_depth': [None],\n",
    "                    'max_features': [2, 4],\n",
    "                    'min_samples_split': [2, 10],\n",
    "                    'min_samples_leaf': [2, 10],\n",
    "                    'bootstrap': [False],\n",
    "                    'n_estimators': [100, 200, 300],\n",
    "                    'criterion': ['gini']}\n",
    "extraTree_clf = GridSearchCV(ExtraTreesClassifier(random_state=42),\n",
    "                                    extraTree_params,\n",
    "                                    cv=StratifiedKFold(n_splits=10),\n",
    "                                    scoring='accuracy',\n",
    "                                    n_jobs=-1)\n",
    "# extraTree_clf = ExtraTreesClassifier(random_state=42, max_features=4)\n",
    "extraTree_clf.fit(X_train, y_train)"
   ]
  },
  {
   "cell_type": "code",
   "execution_count": null,
   "metadata": {},
   "outputs": [],
   "source": [
    "extraTree_clf.best_estimator_"
   ]
  },
  {
   "cell_type": "code",
   "execution_count": null,
   "metadata": {},
   "outputs": [],
   "source": [
    "# competition_scorer(y_val, extraTree_clf.predict_proba(X_val))\n",
    "competition_scorer(y_val, extraTree_clf.best_estimator_.predict_proba(X_val))"
   ]
  },
  {
   "cell_type": "markdown",
   "metadata": {},
   "source": [
    "Gradient Boosting"
   ]
  },
  {
   "cell_type": "code",
   "execution_count": null,
   "metadata": {},
   "outputs": [],
   "source": [
    "gbrt_params = {'n_estimators': [300, 400],\n",
    "               'loss': ['deviance'],\n",
    "               'learning_rate': [0.04, 0.05, 0.1],\n",
    "               'max_depth': [4, 5],\n",
    "               'min_samples_leaf': [2, 3, 5],\n",
    "               'max_features': [4]}\n",
    "gbrt_clf = GridSearchCV(GradientBoostingClassifier(random_state=42),\n",
    "                               gbrt_params,\n",
    "                               cv=StratifiedKFold(n_splits=10),\n",
    "                               scoring='accuracy',\n",
    "                               n_jobs=-1)\n",
    "# gbrt_clf = GradientBoostingClassifier(random_state=42, max_features=4)\n",
    "gbrt_clf.fit(X_train, y_train)"
   ]
  },
  {
   "cell_type": "code",
   "execution_count": null,
   "metadata": {},
   "outputs": [],
   "source": [
    "gbrt_clf.best_estimator_"
   ]
  },
  {
   "cell_type": "code",
   "execution_count": null,
   "metadata": {},
   "outputs": [],
   "source": [
    "# competition_scorer(y_val, gbrt_clf.predict_proba(X_val))\n",
    "competition_scorer(y_val, gbrt_clf.best_estimator_.predict_proba(X_val))"
   ]
  },
  {
   "cell_type": "markdown",
   "metadata": {},
   "source": [
    "Voting classifier"
   ]
  },
  {
   "cell_type": "code",
   "execution_count": null,
   "metadata": {},
   "outputs": [],
   "source": [
    "voting_soft_clf = VotingClassifier(\n",
    "    estimators=[\n",
    "                ('lr', lr_clf),\n",
    "#                 ('svm', svr_gridsearch),\n",
    "                ('dt', dt_clf),\n",
    "                ('rf', rdmFrst_clf),\n",
    "                ('ada', ada_clf),\n",
    "                ('extraTree', extraTree_clf),\n",
    "                ('gbrt', gbrt_clf)\n",
    "    ],\n",
    "    voting='soft'\n",
    ")\n",
    "\n",
    "voting_soft_clf.fit(X_train, y_train)"
   ]
  },
  {
   "cell_type": "code",
   "execution_count": null,
   "metadata": {},
   "outputs": [],
   "source": [
    "competition_scorer(y_val, voting_soft_clf.predict_proba(X_val))"
   ]
  },
  {
   "cell_type": "markdown",
   "metadata": {},
   "source": [
    "# 5- Compute predictions on the test set "
   ]
  },
  {
   "cell_type": "code",
   "execution_count": null,
   "metadata": {},
   "outputs": [],
   "source": [
    "# use the model to predict on the test set\n",
    "X_test = requests_test[columns]\n",
    "y_pred = ada_clf.predict_proba(X_test)"
   ]
  },
  {
   "cell_type": "code",
   "execution_count": null,
   "metadata": {},
   "outputs": [],
   "source": [
    "# overview of prediction probabilities for first four rows\n",
    "y_pred[:4]"
   ]
  },
  {
   "cell_type": "code",
   "execution_count": null,
   "metadata": {},
   "outputs": [],
   "source": [
    "predictions = pd.concat([requests_test['request_id'], pd.DataFrame(y_pred)], axis=1)"
   ]
  },
  {
   "cell_type": "markdown",
   "metadata": {},
   "source": [
    "# 6- Submit your predictions to the QScore platform"
   ]
  },
  {
   "cell_type": "code",
   "execution_count": null,
   "metadata": {},
   "outputs": [],
   "source": [
    "import io, math, requests\n",
    "\n",
    "# Get your token from qscore:\n",
    "# 1. Go to https://qscore.datascience-olympics.com/\n",
    "# 2. Chose the competition Data Science Olympics 2019\n",
    "# 3. In the left menu click 'Submissions'\n",
    "# 4. Your token is in the 'Submit from your Python Notebook' tab\n",
    "\n",
    "def submit_prediction(df, sep=',', comment='', compression='gzip', **kwargs):\n",
    "    TOKEN='f621f6e9426b924e64f819e48aa2782e2426bab78a7b7dca8b1224dff5be734a6e18167266adf7e04f51dfbfa22db6c3633c0362c3d7c769ae210a8fa1a97670'\n",
    "    URL='https://qscore.datascience-olympics.com/api/submissions'\n",
    "    df.to_csv('temporary.dat', sep=sep, compression=compression, **kwargs)\n",
    "    r = requests.post(URL, headers={'Authorization': 'Bearer {}'.format(TOKEN)},files={'datafile': open('temporary.dat', 'rb')},data={'comment':comment, 'compression': compression})\n",
    "    if r.status_code == 429:\n",
    "        raise Exception('Submissions are too close. Next submission is only allowed in {} seconds.'.format(int(math.ceil(int(r.headers['x-rate-limit-remaining']) / 1000.0))))\n",
    "    if r.status_code != 200:\n",
    "        raise Exception(r.text)"
   ]
  },
  {
   "cell_type": "code",
   "execution_count": null,
   "metadata": {},
   "outputs": [],
   "source": [
    "submit_prediction(predictions, sep=',', index=False, comment='my submission')"
   ]
  },
  {
   "cell_type": "code",
   "execution_count": null,
   "metadata": {},
   "outputs": [],
   "source": []
  }
 ],
 "metadata": {
  "kernelspec": {
   "display_name": "Python 3",
   "language": "python",
   "name": "python3"
  },
  "language_info": {
   "codemirror_mode": {
    "name": "ipython",
    "version": 3
   },
   "file_extension": ".py",
   "mimetype": "text/x-python",
   "name": "python",
   "nbconvert_exporter": "python",
   "pygments_lexer": "ipython3",
   "version": "3.7.2"
  }
 },
 "nbformat": 4,
 "nbformat_minor": 2
}
