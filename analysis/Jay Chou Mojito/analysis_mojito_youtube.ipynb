{
 "cells": [
  {
   "cell_type": "markdown",
   "metadata": {},
   "source": [
    "https://www.pingshiuanchua.com/blog/post/using-youtube-api-to-analyse-youtube-comments-on-python"
   ]
  },
  {
   "cell_type": "markdown",
   "metadata": {},
   "source": [
    "## Extract YouTube Comments"
   ]
  },
  {
   "cell_type": "markdown",
   "metadata": {},
   "source": [
    "### Method 1: html"
   ]
  },
  {
   "cell_type": "code",
   "execution_count": null,
   "metadata": {},
   "outputs": [],
   "source": [
    "import configparser\n",
    "from urllib.parse import urlencode\n",
    "import requests\n",
    "\n",
    "import time\n",
    "import json\n"
   ]
  },
  {
   "cell_type": "code",
   "execution_count": null,
   "metadata": {},
   "outputs": [],
   "source": [
    "config = configparser.ConfigParser()\n",
    "config.read('key.properties')\n",
    "key = config['google']['python.playground']"
   ]
  },
  {
   "cell_type": "markdown",
   "metadata": {},
   "source": [
    "**Get Video IDs**"
   ]
  },
  {
   "cell_type": "code",
   "execution_count": null,
   "metadata": {},
   "outputs": [],
   "source": [
    "def html_get_videoid(part, maxResults, q, key=key):\n",
    "    response = requests.get('https://www.googleapis.com/youtube/v3/search?' +\n",
    "                            urlencode({'part': part,\n",
    "                                       'maxResults':maxResults,\n",
    "                                       'q': q,\n",
    "                                       'key': key}))\n",
    "    \n",
    "    search_info = response.json()\n",
    "\n",
    "    try:\n",
    "        if response.ok :\n",
    "            for i in range(maxResults):\n",
    "                if search_info['items'][i]['snippet']['channelTitle'] == '周杰倫 Jay Chou':\n",
    "                    video_id = search_info['items'][i]['id']['videoId']\n",
    "            return video_id\n",
    "    except IndexError:\n",
    "        print('Failed to get status, response:', search_info)\n",
    "        raise"
   ]
  },
  {
   "cell_type": "code",
   "execution_count": null,
   "metadata": {},
   "outputs": [],
   "source": [
    "video_id = html_get_videoid(part='snippet', maxResults=5, q='Jay Chou Mojito', key=key)"
   ]
  },
  {
   "cell_type": "code",
   "execution_count": null,
   "metadata": {},
   "outputs": [],
   "source": [
    "video_id"
   ]
  },
  {
   "cell_type": "markdown",
   "metadata": {},
   "source": [
    "**Get statistics data**"
   ]
  },
  {
   "cell_type": "code",
   "execution_count": null,
   "metadata": {},
   "outputs": [],
   "source": [
    "def html_get_statistics_data(video_id, key=key):\n",
    "    response = requests.get('https://www.googleapis.com/youtube/v3/videos?' +\n",
    "                            urlencode({'part':'statistics',\n",
    "                                       'id': video_id,\n",
    "                                       'key': key}))\n",
    "    statistics_data = response.json()\n",
    "\n",
    "    try:\n",
    "        if response.ok :\n",
    "            view_count = statistics_data['items'][0]['statistics']['viewCount']\n",
    "            like_count = statistics_data['items'][0]['statistics']['likeCount']\n",
    "            dislike_count = statistics_data['items'][0]['statistics']['dislikeCount']\n",
    "            comment_count = statistics_data['items'][0]['statistics']['commentCount']\n",
    "            return view_count, like_count, dislike_count, comment_count\n",
    "    except IndexError:\n",
    "        print('Failed to get status, response:', statistics_data)\n",
    "        raise\n",
    "    \n",
    "    "
   ]
  },
  {
   "cell_type": "code",
   "execution_count": null,
   "metadata": {},
   "outputs": [],
   "source": [
    "view_count, like_count, dislike_count, comment_count = html_get_statistics_data(video_id=video_id, key=key)"
   ]
  },
  {
   "cell_type": "code",
   "execution_count": null,
   "metadata": {},
   "outputs": [],
   "source": [
    "print('view_count:', view_count)\n",
    "print('like_count:', like_count)\n",
    "print('dislike_count:', dislike_count)\n",
    "print('comment_count:', comment_count)\n"
   ]
  },
  {
   "cell_type": "markdown",
   "metadata": {},
   "source": [
    "**Get comments**"
   ]
  },
  {
   "cell_type": "code",
   "execution_count": null,
   "metadata": {},
   "outputs": [],
   "source": [
    "def html_get_comments(part, videoId, key=key):\n",
    "    time.sleep(1)\n",
    "\n",
    "    response = requests.get('https://www.googleapis.com/youtube/v3/commentThreads?' +\n",
    "                        urlencode({'part':part,\n",
    "                                   'videoId':videoId,\n",
    "                                   'key': key}))\n",
    "    resp = response.json()\n",
    "    resp_tot = resp.copy()\n",
    "    if 'nextPageToken' in resp:\n",
    "        page_token = resp['nextPageToken']\n",
    "        print(\"resp['nextPageToken']:\", resp['nextPageToken'])\n",
    "        while page_token:\n",
    "            print('page_token:', page_token)\n",
    "            response_tk = requests.get('https://www.googleapis.com/youtube/v3/commentThreads?' +\n",
    "                        urlencode({'part':part,\n",
    "                                   'pageToken':page_token,\n",
    "                                   'videoId':videoId,\n",
    "                                   'key': key}))\n",
    "            resp_tk = response_tk.json()\n",
    "            print(\"len(resp_tk['items']):\", len(resp_tk['items']))\n",
    "            for i in range(len(resp_tk['items'])):\n",
    "                resp_tot['items'].append(resp_tk['items'][i])\n",
    "            if 'nextPageToken' in resp_tk:\n",
    "                page_token = resp_tk['nextPageToken']\n",
    "                print('page_token:', page_token)\n",
    "                print('===')\n",
    "            else:\n",
    "                break\n",
    "\n",
    "    return resp_tot\n"
   ]
  },
  {
   "cell_type": "code",
   "execution_count": null,
   "metadata": {},
   "outputs": [],
   "source": [
    "comments_json = html_get_comments(part='snippet', videoId='-biOGdYiF-I', key=key)"
   ]
  },
  {
   "cell_type": "code",
   "execution_count": null,
   "metadata": {
    "scrolled": true
   },
   "outputs": [],
   "source": [
    "len(comments_json['items'])"
   ]
  },
  {
   "cell_type": "code",
   "execution_count": null,
   "metadata": {},
   "outputs": [],
   "source": [
    "with open('comments_json.json', 'w') as json_file:\n",
    "    json.dump(comments_json, json_file)"
   ]
  },
  {
   "cell_type": "markdown",
   "metadata": {},
   "source": [
    "### Method 2: python"
   ]
  },
  {
   "cell_type": "markdown",
   "metadata": {},
   "source": [
    "**Get Video IDs**"
   ]
  },
  {
   "cell_type": "code",
   "execution_count": null,
   "metadata": {},
   "outputs": [],
   "source": [
    "import os\n",
    "import googleapiclient.discovery"
   ]
  },
  {
   "cell_type": "code",
   "execution_count": null,
   "metadata": {},
   "outputs": [],
   "source": [
    "def py_get_videoid(part, maxResults, q, key=key):\n",
    "    api_service_name = 'youtube'\n",
    "    api_version = 'v3'\n",
    "\n",
    "    youtube = googleapiclient.discovery.build(\n",
    "        api_service_name, api_version, developerKey = key)\n",
    "\n",
    "    request = youtube.search().list(\n",
    "        part=part,\n",
    "        maxResults=maxResults,\n",
    "        q=q\n",
    "    )\n",
    "    search_info = request.execute()\n",
    "\n",
    "    try:\n",
    "        for i in range(maxResults):\n",
    "            if search_info['items'][i]['snippet']['channelTitle'] == '周杰倫 Jay Chou':\n",
    "                video_id = search_info['items'][i]['id']['videoId']\n",
    "        return video_id\n",
    "    except IndexError:\n",
    "        print('Failed to get status, response:', search_info)\n",
    "        raise"
   ]
  },
  {
   "cell_type": "code",
   "execution_count": null,
   "metadata": {},
   "outputs": [],
   "source": [
    "os.environ[\"OAUTHLIB_INSECURE_TRANSPORT\"] = \"1\"\n",
    "\n",
    "video_id = py_get_videoid(part='snippet', maxResults=5, q='Jay Chou Mojito', key=key)"
   ]
  },
  {
   "cell_type": "code",
   "execution_count": null,
   "metadata": {},
   "outputs": [],
   "source": [
    "video_id"
   ]
  },
  {
   "cell_type": "markdown",
   "metadata": {},
   "source": [
    "**Get statistics data**"
   ]
  },
  {
   "cell_type": "code",
   "execution_count": null,
   "metadata": {},
   "outputs": [],
   "source": [
    "def py_get_statistics_data(video_id, key=key):\n",
    "    api_service_name = 'youtube'\n",
    "    api_version = 'v3'\n",
    "\n",
    "    youtube = googleapiclient.discovery.build(\n",
    "        api_service_name, api_version, developerKey = key)\n",
    "    \n",
    "    request = youtube.videos().list(\n",
    "        part='statistics',\n",
    "        id=video_id\n",
    "    )\n",
    "    response = request.execute()\n",
    "\n",
    "    try:\n",
    "        view_count = statistics_data['items'][0]['statistics']['viewCount']\n",
    "        like_count = statistics_data['items'][0]['statistics']['likeCount']\n",
    "        dislike_count = statistics_data['items'][0]['statistics']['dislikeCount']\n",
    "        comment_count = statistics_data['items'][0]['statistics']['commentCount']\n",
    "        return view_count, like_count, dislike_count, comment_count\n",
    "    except IndexError:\n",
    "        print('Failed to get status, response:', statistics_data)\n",
    "        raise\n"
   ]
  },
  {
   "cell_type": "code",
   "execution_count": null,
   "metadata": {},
   "outputs": [],
   "source": [
    "view_count, like_count, dislike_count, comment_count = py_get_statistics_data(video_id=video_id, key=key)"
   ]
  },
  {
   "cell_type": "code",
   "execution_count": null,
   "metadata": {},
   "outputs": [],
   "source": [
    "print('view_count:', view_count)\n",
    "print('like_count:', like_count)\n",
    "print('dislike_count:', dislike_count)\n",
    "print('comment_count:', comment_count)\n"
   ]
  },
  {
   "cell_type": "markdown",
   "metadata": {},
   "source": [
    "**Get comments**"
   ]
  },
  {
   "cell_type": "code",
   "execution_count": null,
   "metadata": {},
   "outputs": [],
   "source": [
    "def py_get_comments(part, videoId, key=key):\n",
    "    time.sleep(1)\n",
    "\n",
    "    api_service_name = 'youtube'\n",
    "    api_version = 'v3'\n",
    "\n",
    "    youtube = googleapiclient.discovery.build(\n",
    "        api_service_name, api_version, developerKey = key)\n",
    "    \n",
    "    request = youtube.commentThreads().list(\n",
    "        part=part,\n",
    "        videoId=videoId\n",
    "    )\n",
    "    resp = request.execute()\n",
    "    resp_tot = resp.copy()\n",
    "\n",
    "    if 'nextPageToken' in resp:\n",
    "        page_token = resp['nextPageToken']\n",
    "        print(\"resp['nextPageToken']:\", resp['nextPageToken'])\n",
    "        while page_token:\n",
    "            print('page_token:', page_token)\n",
    "            response_tk = youtube.commentThreads().list(\n",
    "                part=part,\n",
    "                pageToken=page_token,\n",
    "                videoId=videoId\n",
    "            )\n",
    "            resp_tk = response_tk.execute()\n",
    "            print(\"len(resp_tk['items']):\", len(resp_tk['items']))\n",
    "            for i in range(len(resp_tk['items'])):\n",
    "                resp_tot['items'].append(resp_tk['items'][i])\n",
    "            if 'nextPageToken' in resp_tk:\n",
    "                page_token = resp_tk['nextPageToken']\n",
    "                print('page_token:', page_token)\n",
    "                print('===')\n",
    "            else:\n",
    "                break\n",
    "\n",
    "    return resp_tot\n"
   ]
  },
  {
   "cell_type": "code",
   "execution_count": null,
   "metadata": {
    "scrolled": true
   },
   "outputs": [],
   "source": [
    "comments_json = html_get_comments(part='snippet', videoId='-biOGdYiF-I', key=key)"
   ]
  },
  {
   "cell_type": "code",
   "execution_count": null,
   "metadata": {},
   "outputs": [],
   "source": [
    "len(comments_json['items'])"
   ]
  },
  {
   "cell_type": "code",
   "execution_count": null,
   "metadata": {},
   "outputs": [],
   "source": [
    "with open('comments_json.json', 'w') as json_file:\n",
    "    json.dump(comments_json, json_file)"
   ]
  },
  {
   "cell_type": "code",
   "execution_count": null,
   "metadata": {},
   "outputs": [],
   "source": []
  },
  {
   "cell_type": "code",
   "execution_count": null,
   "metadata": {},
   "outputs": [],
   "source": []
  },
  {
   "cell_type": "code",
   "execution_count": null,
   "metadata": {},
   "outputs": [],
   "source": []
  },
  {
   "cell_type": "code",
   "execution_count": null,
   "metadata": {},
   "outputs": [],
   "source": []
  },
  {
   "cell_type": "code",
   "execution_count": null,
   "metadata": {},
   "outputs": [],
   "source": []
  }
 ],
 "metadata": {
  "kernelspec": {
   "display_name": "Python 3",
   "language": "python",
   "name": "python3"
  },
  "language_info": {
   "codemirror_mode": {
    "name": "ipython",
    "version": 3
   },
   "file_extension": ".py",
   "mimetype": "text/x-python",
   "name": "python",
   "nbconvert_exporter": "python",
   "pygments_lexer": "ipython3",
   "version": "3.7.3"
  }
 },
 "nbformat": 4,
 "nbformat_minor": 2
}
