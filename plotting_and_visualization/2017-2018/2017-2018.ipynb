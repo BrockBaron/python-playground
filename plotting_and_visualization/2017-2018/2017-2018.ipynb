{
 "cells": [
  {
   "cell_type": "code",
   "execution_count": null,
   "metadata": {},
   "outputs": [],
   "source": [
    "import pandas as pd\n",
    "import matplotlib.pyplot as plt\n",
    "from matplotlib import font_manager"
   ]
  },
  {
   "cell_type": "code",
   "execution_count": null,
   "metadata": {},
   "outputs": [],
   "source": [
    "# window os\n",
    "# fontP = font_manager.FontProperties()\n",
    "# fontP.set_family('SimHei')\n",
    "# fontP.set_size(14)\n",
    "\n",
    "# mac os\n",
    "font_path = '/Library/Fonts/simhei.ttf'\n",
    "fontP = font_manager.FontProperties(fname=font_path)\n",
    "fontP.set_size(14)"
   ]
  },
  {
   "cell_type": "code",
   "execution_count": null,
   "metadata": {},
   "outputs": [],
   "source": [
    "player_df = pd.read_csv(\"2017-2018.csv\", encoding='GB2312')"
   ]
  },
  {
   "cell_type": "code",
   "execution_count": null,
   "metadata": {
    "scrolled": true
   },
   "outputs": [],
   "source": [
    "player_df"
   ]
  },
  {
   "cell_type": "code",
   "execution_count": null,
   "metadata": {},
   "outputs": [],
   "source": [
    "paths = ['勒布朗·詹姆斯.png',\n",
    "         '斯蒂芬·库里.png',\n",
    "         '凯文·杜兰特.png',\n",
    "         '扬尼斯·安德托昆博.png',\n",
    "         '詹姆斯·哈登.png',\n",
    "         '拉塞尔·威斯布鲁克.png',\n",
    "         '乔尔·恩比德.png',\n",
    "         '科怀·莱昂纳德.png',\n",
    "         '安东尼・戴维斯.png',\n",
    "         '德马库斯·考辛斯.png',\n",
    "         '克里斯·保罗.png',\n",
    "         '凯里·欧文.png',\n",
    "         '拉马库斯·阿尔德里奇.png',\n",
    "         '卡尔·安东尼·唐斯.png',\n",
    "         '维克多·奥拉迪波.png',\n",
    "         '达米安·利拉德.png']"
   ]
  },
  {
   "cell_type": "code",
   "execution_count": null,
   "metadata": {},
   "outputs": [],
   "source": [
    "max(player_df['防守效率'])"
   ]
  },
  {
   "cell_type": "code",
   "execution_count": null,
   "metadata": {},
   "outputs": [],
   "source": [
    "from matplotlib.offsetbox import OffsetImage, AnnotationBbox\n",
    "\n",
    "def getImage(path, zoom=0.3):\n",
    "    return OffsetImage(plt.imread(path), zoom=zoom)"
   ]
  },
  {
   "cell_type": "code",
   "execution_count": null,
   "metadata": {},
   "outputs": [],
   "source": [
    "fig, ax = plt.subplots(figsize=(18, 10))\n",
    "plt.title('进攻效率 vs 防守效率', fontproperties=fontP)\n",
    "\n",
    "ax.scatter(x=player_df['进攻效率'],\n",
    "           y=player_df['防守效率'],\n",
    "           alpha=0.6)\n",
    "plt.tick_params(labelsize=12)\n",
    "plt.xlabel('进攻效率', size=12, fontproperties=fontP)\n",
    "plt.ylabel('防守效率', size=12, fontproperties=fontP)\n",
    "plt.xlim(left=103, right=128)\n",
    "plt.ylim(bottom=96, top=110)\n",
    "ax.grid(alpha=0.5)\n",
    "\n",
    "artists = []\n",
    "for x0, y0, path in zip(player_df['进攻效率'], player_df['防守效率'], paths):\n",
    "    ab = AnnotationBbox(getImage(path), (x0, y0), frameon=False)\n",
    "    artists.append(ax.add_artist(ab))\n",
    "plt.hlines(y=103, xmin=103, xmax=128)\n",
    "plt.vlines(x=115, ymin=96, ymax=110)\n",
    "plt.gca().invert_yaxis()\n",
    "\n",
    "ax.text(104, 97, '防守效率高\\n进攻效率低',\n",
    "        fontsize=20, color='red',\n",
    "        fontproperties=fontP)\n",
    "ax.text(126, 97, '防守效率高\\n进攻效率高',\n",
    "        fontsize=20, color='red',\n",
    "        fontproperties=fontP)\n",
    "ax.text(104, 109.5, '防守效率低\\n进攻效率低',\n",
    "        fontsize=20, color='red',\n",
    "        fontproperties=fontP)\n",
    "ax.text(126, 109.5, '防守效率低\\n进攻效率高',\n",
    "        fontsize=20, color='red',\n",
    "        fontproperties=fontP)\n",
    "\n",
    "plt.show()"
   ]
  },
  {
   "cell_type": "code",
   "execution_count": null,
   "metadata": {},
   "outputs": [],
   "source": []
  }
 ],
 "metadata": {
  "kernelspec": {
   "display_name": "Python 3",
   "language": "python",
   "name": "python3"
  },
  "language_info": {
   "codemirror_mode": {
    "name": "ipython",
    "version": 3
   },
   "file_extension": ".py",
   "mimetype": "text/x-python",
   "name": "python",
   "nbconvert_exporter": "python",
   "pygments_lexer": "ipython3",
   "version": "3.7.2"
  }
 },
 "nbformat": 4,
 "nbformat_minor": 2
}
