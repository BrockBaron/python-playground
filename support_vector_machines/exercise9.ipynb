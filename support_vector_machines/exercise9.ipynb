{
 "cells": [
  {
   "cell_type": "markdown",
   "metadata": {},
   "source": [
    "# Exercise 9\n",
    "Train an SVM classifier on the MNIST dataset. Since SVM classifiers are binary classifiers, you will need to use one-versus-all to classify all 10 digits.You may want to tune the hyperparameters using small validation sets to speed up the process. What accuracy can you reach?"
   ]
  },
  {
   "cell_type": "code",
   "execution_count": 1,
   "metadata": {},
   "outputs": [
    {
     "name": "stderr",
     "output_type": "stream",
     "text": [
      "/usr/local/lib/python3.7/site-packages/sklearn/utils/deprecation.py:77: DeprecationWarning: Function fetch_mldata is deprecated; fetch_mldata was deprecated in version 0.20 and will be removed in version 0.22\n",
      "  warnings.warn(msg, category=DeprecationWarning)\n",
      "/usr/local/lib/python3.7/site-packages/sklearn/utils/deprecation.py:77: DeprecationWarning: Function mldata_filename is deprecated; mldata_filename was deprecated in version 0.20 and will be removed in version 0.22\n",
      "  warnings.warn(msg, category=DeprecationWarning)\n"
     ]
    }
   ],
   "source": [
    "from sklearn.datasets import fetch_mldata\n",
    "import numpy as np\n",
    "\n",
    "mnist = fetch_mldata('MNIST original')\n",
    "X, y = mnist['data'], mnist['target']\n",
    "X_train, X_test, y_train, y_test = X[:60000], X[60000:], y[:60000], y[60000:]\n",
    "\n",
    "np.random.seed(42)\n",
    "shuffle_index = np.random.permutation(60000)\n",
    "X_train, y_train = X_train[shuffle_index], y_train[shuffle_index]"
   ]
  },
  {
   "cell_type": "code",
   "execution_count": 2,
   "metadata": {},
   "outputs": [],
   "source": [
    "from sklearn.preprocessing import StandardScaler\n",
    "\n",
    "scaler = StandardScaler()\n",
    "X_train_scaled = scaler.fit_transform(X_train.astype(np.float32))\n",
    "X_test_scaled = scaler.fit_transform(X_test.astype(np.float32))"
   ]
  },
  {
   "cell_type": "markdown",
   "metadata": {},
   "source": [
    "**`LinearSVC`**"
   ]
  },
  {
   "cell_type": "code",
   "execution_count": 3,
   "metadata": {},
   "outputs": [
    {
     "name": "stderr",
     "output_type": "stream",
     "text": [
      "/usr/local/lib/python3.7/site-packages/sklearn/svm/base.py:931: ConvergenceWarning: Liblinear failed to converge, increase the number of iterations.\n",
      "  \"the number of iterations.\", ConvergenceWarning)\n"
     ]
    },
    {
     "data": {
      "text/plain": [
       "LinearSVC(C=1.0, class_weight=None, dual=True, fit_intercept=True,\n",
       "     intercept_scaling=1, loss='squared_hinge', max_iter=1000,\n",
       "     multi_class='ovr', penalty='l2', random_state=42, tol=0.0001,\n",
       "     verbose=0)"
      ]
     },
     "execution_count": 3,
     "metadata": {},
     "output_type": "execute_result"
    }
   ],
   "source": [
    "%timeit\n",
    "from sklearn.svm import LinearSVC\n",
    "\n",
    "lin_clf = LinearSVC(random_state=42)\n",
    "lin_clf.fit(X_train_scaled, y_train)"
   ]
  },
  {
   "cell_type": "code",
   "execution_count": 4,
   "metadata": {},
   "outputs": [
    {
     "data": {
      "text/plain": [
       "0.9219333333333334"
      ]
     },
     "execution_count": 4,
     "metadata": {},
     "output_type": "execute_result"
    }
   ],
   "source": [
    "%timeit\n",
    "from sklearn.metrics import accuracy_score\n",
    "\n",
    "y_pred_lin = lin_clf.predict(X_train_scaled)\n",
    "accuracy_score(y_train, y_pred_lin)"
   ]
  },
  {
   "cell_type": "markdown",
   "metadata": {},
   "source": [
    "**`SVC`**\n",
    "<br>If we want to use an SVM, we will have to use a kernel. Let's try an SVC with an RBF kernel (the default)."
   ]
  },
  {
   "cell_type": "code",
   "execution_count": 5,
   "metadata": {},
   "outputs": [
    {
     "data": {
      "text/plain": [
       "SVC(C=5, cache_size=200, class_weight=None, coef0=0.0,\n",
       "  decision_function_shape='ovr', degree=3, gamma='auto', kernel='rbf',\n",
       "  max_iter=-1, probability=False, random_state=42, shrinking=True,\n",
       "  tol=0.001, verbose=False)"
      ]
     },
     "execution_count": 5,
     "metadata": {},
     "output_type": "execute_result"
    }
   ],
   "source": [
    "%timeit\n",
    "from sklearn.svm import SVC\n",
    "svm_clf = SVC(kernel='rbf', gamma='auto', C=5, random_state=42)\n",
    "svm_clf.fit(X_train_scaled[:10000], y_train[:10000])"
   ]
  },
  {
   "cell_type": "code",
   "execution_count": 6,
   "metadata": {},
   "outputs": [
    {
     "data": {
      "text/plain": [
       "0.9563"
      ]
     },
     "execution_count": 6,
     "metadata": {},
     "output_type": "execute_result"
    }
   ],
   "source": [
    "%timeit\n",
    "y_pred_svm = svm_clf.predict(X_train_scaled)\n",
    "accuracy_score(y_train, y_pred_svm)"
   ]
  },
  {
   "cell_type": "markdown",
   "metadata": {},
   "source": [
    "C=1 & gamma = 'auto': 0.94615<br>\n",
    "C=2 & gamma = 'auto': 0.95313<br>\n",
    "C=5 & gamma = 'auto': 0.9563"
   ]
  },
  {
   "cell_type": "code",
   "execution_count": 7,
   "metadata": {},
   "outputs": [
    {
     "data": {
      "text/plain": [
       "0.9499"
      ]
     },
     "execution_count": 7,
     "metadata": {},
     "output_type": "execute_result"
    }
   ],
   "source": [
    "y_pred_svm_test = svm_clf.predict(X_test_scaled)\n",
    "accuracy_score(y_test, y_pred_svm_test)"
   ]
  },
  {
   "cell_type": "markdown",
   "metadata": {},
   "source": [
    "Inspired by https://github.com/ageron/handson-ml/blob/master/05_support_vector_machines.ipynb <br>\n",
    "That's promising, we get better performance even though we trained the model on 6 times less data. Let's tune the hyperparameters by doing a randomized search with cross validation. We will do this on a small dataset just to speed up the process:"
   ]
  },
  {
   "cell_type": "code",
   "execution_count": 8,
   "metadata": {},
   "outputs": [
    {
     "name": "stdout",
     "output_type": "stream",
     "text": [
      "Fitting 3 folds for each of 10 candidates, totalling 30 fits\n",
      "[CV] C=3.5988934774124326, gamma=0.001513186272679838 ................\n"
     ]
    },
    {
     "name": "stderr",
     "output_type": "stream",
     "text": [
      "[Parallel(n_jobs=1)]: Using backend SequentialBackend with 1 concurrent workers.\n"
     ]
    },
    {
     "name": "stdout",
     "output_type": "stream",
     "text": [
      "[CV] . C=3.5988934774124326, gamma=0.001513186272679838, total=   0.8s\n",
      "[CV] C=3.5988934774124326, gamma=0.001513186272679838 ................\n"
     ]
    },
    {
     "name": "stderr",
     "output_type": "stream",
     "text": [
      "[Parallel(n_jobs=1)]: Done   1 out of   1 | elapsed:    1.1s remaining:    0.0s\n"
     ]
    },
    {
     "name": "stdout",
     "output_type": "stream",
     "text": [
      "[CV] . C=3.5988934774124326, gamma=0.001513186272679838, total=   0.8s\n",
      "[CV] C=3.5988934774124326, gamma=0.001513186272679838 ................\n",
      "[CV] . C=3.5988934774124326, gamma=0.001513186272679838, total=   0.8s\n",
      "[CV] C=3.055855399572819, gamma=0.06719156480223124 ..................\n",
      "[CV] ... C=3.055855399572819, gamma=0.06719156480223124, total=   1.0s\n",
      "[CV] C=3.055855399572819, gamma=0.06719156480223124 ..................\n",
      "[CV] ... C=3.055855399572819, gamma=0.06719156480223124, total=   1.0s\n",
      "[CV] C=3.055855399572819, gamma=0.06719156480223124 ..................\n",
      "[CV] ... C=3.055855399572819, gamma=0.06719156480223124, total=   1.0s\n",
      "[CV] C=1.107005900704854, gamma=0.001848939794318145 .................\n",
      "[CV] .. C=1.107005900704854, gamma=0.001848939794318145, total=   0.8s\n",
      "[CV] C=1.107005900704854, gamma=0.001848939794318145 .................\n",
      "[CV] .. C=1.107005900704854, gamma=0.001848939794318145, total=   0.8s\n",
      "[CV] C=1.107005900704854, gamma=0.001848939794318145 .................\n",
      "[CV] .. C=1.107005900704854, gamma=0.001848939794318145, total=   0.8s\n",
      "[CV] C=8.580396351217694, gamma=0.09114265653213442 ..................\n",
      "[CV] ... C=8.580396351217694, gamma=0.09114265653213442, total=   1.0s\n",
      "[CV] C=8.580396351217694, gamma=0.09114265653213442 ..................\n",
      "[CV] ... C=8.580396351217694, gamma=0.09114265653213442, total=   1.1s\n",
      "[CV] C=8.580396351217694, gamma=0.09114265653213442 ..................\n",
      "[CV] ... C=8.580396351217694, gamma=0.09114265653213442, total=   1.0s\n",
      "[CV] C=7.881852955024211, gamma=0.06993087682473523 ..................\n",
      "[CV] ... C=7.881852955024211, gamma=0.06993087682473523, total=   1.0s\n",
      "[CV] C=7.881852955024211, gamma=0.06993087682473523 ..................\n",
      "[CV] ... C=7.881852955024211, gamma=0.06993087682473523, total=   1.0s\n",
      "[CV] C=7.881852955024211, gamma=0.06993087682473523 ..................\n",
      "[CV] ... C=7.881852955024211, gamma=0.06993087682473523, total=   1.0s\n",
      "[CV] C=9.552357567109635, gamma=0.009118854871587641 .................\n",
      "[CV] .. C=9.552357567109635, gamma=0.009118854871587641, total=   1.0s\n",
      "[CV] C=9.552357567109635, gamma=0.009118854871587641 .................\n",
      "[CV] .. C=9.552357567109635, gamma=0.009118854871587641, total=   1.0s\n",
      "[CV] C=9.552357567109635, gamma=0.009118854871587641 .................\n",
      "[CV] .. C=9.552357567109635, gamma=0.009118854871587641, total=   1.0s\n",
      "[CV] C=4.335232453578552, gamma=0.018385511949522124 .................\n",
      "[CV] .. C=4.335232453578552, gamma=0.018385511949522124, total=   1.0s\n",
      "[CV] C=4.335232453578552, gamma=0.018385511949522124 .................\n",
      "[CV] .. C=4.335232453578552, gamma=0.018385511949522124, total=   1.0s\n",
      "[CV] C=4.335232453578552, gamma=0.018385511949522124 .................\n",
      "[CV] .. C=4.335232453578552, gamma=0.018385511949522124, total=   1.0s\n",
      "[CV] C=6.335534109540218, gamma=0.0011263118134606108 ................\n",
      "[CV] . C=6.335534109540218, gamma=0.0011263118134606108, total=   0.7s\n",
      "[CV] C=6.335534109540218, gamma=0.0011263118134606108 ................\n",
      "[CV] . C=6.335534109540218, gamma=0.0011263118134606108, total=   0.7s\n",
      "[CV] C=6.335534109540218, gamma=0.0011263118134606108 ................\n",
      "[CV] . C=6.335534109540218, gamma=0.0011263118134606108, total=   0.7s\n",
      "[CV] C=10.572971700825061, gamma=0.01381957639278581 .................\n",
      "[CV] .. C=10.572971700825061, gamma=0.01381957639278581, total=   1.0s\n",
      "[CV] C=10.572971700825061, gamma=0.01381957639278581 .................\n",
      "[CV] .. C=10.572971700825061, gamma=0.01381957639278581, total=   1.0s\n",
      "[CV] C=10.572971700825061, gamma=0.01381957639278581 .................\n",
      "[CV] .. C=10.572971700825061, gamma=0.01381957639278581, total=   1.0s\n",
      "[CV] C=9.744917916776693, gamma=0.029461872248440116 .................\n",
      "[CV] .. C=9.744917916776693, gamma=0.029461872248440116, total=   1.0s\n",
      "[CV] C=9.744917916776693, gamma=0.029461872248440116 .................\n",
      "[CV] .. C=9.744917916776693, gamma=0.029461872248440116, total=   1.0s\n",
      "[CV] C=9.744917916776693, gamma=0.029461872248440116 .................\n",
      "[CV] .. C=9.744917916776693, gamma=0.029461872248440116, total=   1.0s\n"
     ]
    },
    {
     "name": "stderr",
     "output_type": "stream",
     "text": [
      "[Parallel(n_jobs=1)]: Done  30 out of  30 | elapsed:   40.6s finished\n"
     ]
    },
    {
     "data": {
      "text/plain": [
       "RandomizedSearchCV(cv=3, error_score='raise-deprecating',\n",
       "          estimator=SVC(C=5, cache_size=200, class_weight=None, coef0=0.0,\n",
       "  decision_function_shape='ovr', degree=3, gamma='auto', kernel='rbf',\n",
       "  max_iter=-1, probability=False, random_state=42, shrinking=True,\n",
       "  tol=0.001, verbose=False),\n",
       "          fit_params=None, iid='warn', n_iter=10, n_jobs=None,\n",
       "          param_distributions={'gamma': <scipy.stats._distn_infrastructure.rv_frozen object at 0x12d8912e8>, 'C': <scipy.stats._distn_infrastructure.rv_frozen object at 0x12d891860>},\n",
       "          pre_dispatch='2*n_jobs', random_state=None, refit=True,\n",
       "          return_train_score='warn', scoring=None, verbose=2)"
      ]
     },
     "execution_count": 8,
     "metadata": {},
     "output_type": "execute_result"
    }
   ],
   "source": [
    "from sklearn.model_selection import RandomizedSearchCV\n",
    "from scipy.stats import reciprocal, uniform\n",
    "\n",
    "param_distributions = {'gamma': reciprocal(0.001, 0.1), 'C': uniform(1, 10)}\n",
    "rnd_search_cv = RandomizedSearchCV(svm_clf, param_distributions, n_iter=10, verbose=2, cv=3)\n",
    "rnd_search_cv.fit(X_train_scaled[:1000], y_train[:1000])"
   ]
  },
  {
   "cell_type": "code",
   "execution_count": 9,
   "metadata": {},
   "outputs": [
    {
     "data": {
      "text/plain": [
       "SVC(C=6.335534109540218, cache_size=200, class_weight=None, coef0=0.0,\n",
       "  decision_function_shape='ovr', degree=3, gamma=0.0011263118134606108,\n",
       "  kernel='rbf', max_iter=-1, probability=False, random_state=42,\n",
       "  shrinking=True, tol=0.001, verbose=False)"
      ]
     },
     "execution_count": 9,
     "metadata": {},
     "output_type": "execute_result"
    }
   ],
   "source": [
    "rnd_search_cv.best_estimator_"
   ]
  },
  {
   "cell_type": "code",
   "execution_count": 10,
   "metadata": {},
   "outputs": [
    {
     "data": {
      "text/plain": [
       "0.863"
      ]
     },
     "execution_count": 10,
     "metadata": {},
     "output_type": "execute_result"
    }
   ],
   "source": [
    "rnd_search_cv.best_score_"
   ]
  },
  {
   "cell_type": "code",
   "execution_count": 11,
   "metadata": {},
   "outputs": [
    {
     "data": {
      "text/plain": [
       "0.884"
      ]
     },
     "execution_count": 11,
     "metadata": {},
     "output_type": "execute_result"
    }
   ],
   "source": [
    "y_pred_search_test = rnd_search_cv.best_estimator_.predict(X_test_scaled)\n",
    "accuracy_score(y_test, y_pred_search_test)"
   ]
  },
  {
   "cell_type": "code",
   "execution_count": null,
   "metadata": {},
   "outputs": [],
   "source": []
  }
 ],
 "metadata": {
  "kernelspec": {
   "display_name": "Python 3",
   "language": "python",
   "name": "python3"
  },
  "language_info": {
   "codemirror_mode": {
    "name": "ipython",
    "version": 3
   },
   "file_extension": ".py",
   "mimetype": "text/x-python",
   "name": "python",
   "nbconvert_exporter": "python",
   "pygments_lexer": "ipython3",
   "version": "3.7.2"
  }
 },
 "nbformat": 4,
 "nbformat_minor": 2
}
